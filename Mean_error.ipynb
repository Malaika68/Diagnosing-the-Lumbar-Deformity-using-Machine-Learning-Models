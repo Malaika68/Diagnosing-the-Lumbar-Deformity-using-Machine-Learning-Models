{
  "nbformat": 4,
  "nbformat_minor": 0,
  "metadata": {
    "colab": {
      "provenance": []
    },
    "kernelspec": {
      "name": "python3",
      "display_name": "Python 3"
    },
    "language_info": {
      "name": "python"
    }
  },
  "cells": [
    {
      "cell_type": "code",
      "metadata": {
        "id": "f9sURgJFOgZ_"
      },
      "source": [
        "LLA_org=[58.37980133,70.02875105,37.47508305,63.46547401,47.95818411,52.59464337,36.86989765,42.74124454,50.19442891,27.20879689,65.91513663,65.15174703,41.65399481,41.36181342,52.88931703,35.13419306,39.73460928,48.49463893,50.90857851,54.67335543,59.8569864,66.97662539,54.66640248,36.40797337,43.85423716,68.06151953,58.69794704,67.27476107,14.99616272,73.65919437,67.65347936,51.70983681,48.57328299,42.86504396,44.9400672,64.40051661,58.45458041,48.30357891,64.85521437,55.09105724,45.29041783,51.32161335,59.8286402,55.47049394,61.14539033,59.01957803,39.09385889,62.07908885,62.02632009,64.41636511,78.95154981]\n",
        "LLA_pred=[58.41910088,\n",
        "70.1318043,\n",
        "37.62506566,\n",
        "63.34905029,\n",
        "47.23870314,\n",
        "52.30994724,\n",
        "36.5098056,\n",
        "42.29248145,\n",
        "50.13525198,\n",
        "27.84530928,\n",
        "65.86751799,\n",
        "64.96351611,\n",
        "42.10124171,\n",
        "41.83097223,\n",
        "52.62132014,\n",
        "35.35501968,\n",
        "39.95663946,\n",
        "48.75611427,\n",
        "50.61552888,\n",
        "54.34966698,\n",
        "59.78176924,\n",
        "66.87349171,\n",
        "54.41310338,\n",
        "37.25372003,\n",
        "43.21506955,\n",
        "68.73988682,\n",
        "58.63026556,\n",
        "67.57731982,\n",
        "14.25546663,\n",
        "73.47117085,\n",
        "67.65416273,\n",
        "51.54593334,\n",
        "48.22038369,\n",
        "42.89063365,\n",
        "45.02282465,\n",
        "64.14885404,\n",
        "58.40404883,\n",
        "48.04187475,\n",
        "64.25157915,\n",
        "55.26281866,\n",
        "45.02282465,\n",
        "51.52083399,\n",
        "59.85682483,\n",
        "55.67269307,\n",
        "61.28437599,\n",
        "59.49584723,\n",
        "38.53094242,\n",
        "62.65464807,\n",
        "62.66976646,\n",
        "64.70862311,\n",
        "78.67088252]\n",
        "clen=51\n",
        "b=[]\n",
        "for i in range(clen):\n",
        "  total=abs(float(LLA_org[i])-float(LLA_pred[i]))\n",
        "  b.append(total)"
      ],
      "execution_count": null,
      "outputs": []
    },
    {
      "cell_type": "code",
      "metadata": {
        "colab": {
          "base_uri": "https://localhost:8080/"
        },
        "id": "DsYIM1RCBjQk",
        "outputId": "f250772c-f936-484c-9ae7-d8c5d187c035"
      },
      "source": [
        "b"
      ],
      "execution_count": null,
      "outputs": [
        {
          "output_type": "execute_result",
          "data": {
            "text/plain": [
              "[0.039299550000002625,\n",
              " 0.1030532500000021,\n",
              " 0.14998260999999502,\n",
              " 0.11642372000000023,\n",
              " 0.7194809699999993,\n",
              " 0.2846961300000004,\n",
              " 0.36009204999999866,\n",
              " 0.4487630899999999,\n",
              " 0.05917692999999957,\n",
              " 0.63651239,\n",
              " 0.04761864000001026,\n",
              " 0.1882309199999952,\n",
              " 0.4472468999999961,\n",
              " 0.46915881000000326,\n",
              " 0.26799688999999915,\n",
              " 0.22082661999999686,\n",
              " 0.2220301799999973,\n",
              " 0.26147533999999695,\n",
              " 0.29304962999999873,\n",
              " 0.3236884499999988,\n",
              " 0.07521715999999401,\n",
              " 0.10313367999999912,\n",
              " 0.25329909999999956,\n",
              " 0.8457466599999961,\n",
              " 0.6391676099999941,\n",
              " 0.6783672899999971,\n",
              " 0.06768148000000451,\n",
              " 0.3025587500000029,\n",
              " 0.7406960899999984,\n",
              " 0.18802352000000155,\n",
              " 0.000683369999990191,\n",
              " 0.16390347000000105,\n",
              " 0.35289930000000425,\n",
              " 0.02558968999999678,\n",
              " 0.08275744999999546,\n",
              " 0.2516625699999935,\n",
              " 0.05053157999999769,\n",
              " 0.26170416000000074,\n",
              " 0.603635220000001,\n",
              " 0.17176142000000283,\n",
              " 0.26759318000000576,\n",
              " 0.19922064000000006,\n",
              " 0.02818462999999838,\n",
              " 0.2021991300000039,\n",
              " 0.138985660000003,\n",
              " 0.4762692000000044,\n",
              " 0.5629164699999976,\n",
              " 0.5755592200000024,\n",
              " 0.6434463699999995,\n",
              " 0.2922580000000039,\n",
              " 0.2806672899999967]"
            ]
          },
          "metadata": {},
          "execution_count": 6
        }
      ]
    },
    {
      "cell_type": "code",
      "metadata": {
        "colab": {
          "base_uri": "https://localhost:8080/"
        },
        "id": "z-Js3QbtQhhD",
        "outputId": "8e60ec00-e121-449c-8c8d-0fe4e15a056b"
      },
      "source": [
        "import numpy as np\n",
        "py_val=[]\n",
        "temp=0\n",
        "for i in range(clen):\n",
        "  temp=temp+float(b[i])\n",
        "  \n",
        "Cobb_mean=np.divide(temp,51)\n",
        "print(\"Mean\",Cobb_mean)"
      ],
      "execution_count": null,
      "outputs": [
        {
          "output_type": "stream",
          "name": "stdout",
          "text": [
            "Mean 0.29774749862745054\n"
          ]
        }
      ]
    },
    {
      "cell_type": "code",
      "metadata": {
        "colab": {
          "base_uri": "https://localhost:8080/"
        },
        "id": "wmJ26aaLREpz",
        "outputId": "7f5b8c92-95ef-4ae4-a1ea-868495103af0"
      },
      "source": [
        "from math import sqrt\n",
        "#Angle STD Dicom\n",
        "temp_py_dicom=0\n",
        "for i in range(clen):\n",
        "  sub=abs(float(b[i])-Cobb_mean)\n",
        "  sub=(sub**2)\n",
        "  temp_py_dicom=temp_py_dicom+sub\n",
        "sq=np.divide(temp_py_dicom,clen)\n",
        "sq=sqrt(sq)\n",
        "print(\" STD\",sq)"
      ],
      "execution_count": null,
      "outputs": [
        {
          "output_type": "stream",
          "name": "stdout",
          "text": [
            " STD 0.21734761760928464\n"
          ]
        }
      ]
    },
    {
      "cell_type": "code",
      "metadata": {
        "id": "ilVUnD5dRkir"
      },
      "source": [
        "LSA_org=[13.4,\t\t\n",
        "7.626046917\t\t,\n",
        "10.91003188\t\t,\n",
        "18.36223848\t\t,\n",
        "30.34169075\t\t,\n",
        "17.70042779\t\t,\n",
        "22.83365418\t\t,\n",
        "27.60510236\t\t,\n",
        "29.03316909\t\t,\n",
        "20.52976878\t\t,\n",
        "12.4011487\t\t,\n",
        "21.22257149\t\t,\n",
        "21.5071982\t\t,\n",
        "19.90717981\t\t,\n",
        "24.19031504\t\t,\n",
        "26.86191784\t\t,\n",
        "22.36512437\t\t,\n",
        "29.48865473\t\t,\n",
        "20.6\t\t,\n",
        "35.76877959\t,\t\n",
        "17.2\t\t,\n",
        "15.75304168,\t\t\n",
        "30.0428377\t,\t\n",
        "30.59549099\t,\t\n",
        "29.19748605\t,\t\n",
        "22.4303798\t,\t\n",
        "25.61309411\t,\t\n",
        "18.45400296\t,\t\n",
        "0.265010966\t,\t\n",
        "36.25383774\t,\t\n",
        "12.52880771\t,\t\n",
        "0\t,\n",
        "25,\t\t\n",
        "16.42268163,\t\t\n",
        "12.44660435\t,\t\n",
        "43.21548261\t,\t\n",
        "30.48042926\t,\n",
        "29.67308211\t,\t\n",
        "11.72511202\t,\t\n",
        "25.90242817\t,\t\n",
        "15.85192815\t,\t\n",
        "34.84631083\t,\t\n",
        "30.38682395\t,\t\n",
        "4.607466794\t,\t\n",
        "28.48027919\t,\t\n",
        "26.61368935\t,\t\n",
        "21.50143432\t,\t\n",
        "4.347456908\t,\t\n",
        "13.34569791\t,\t\n",
        "28.97883278\t,\t\n",
        "17.44718842\t,\t\n",
        "]\n",
        "LSA_pred=[13.70282325,\n",
        "7.997575924,\n",
        "10.42599793,\n",
        "18.32622564,\n",
        "29.61719194,\n",
        "17.11140372,\n",
        "22.63395564,\n",
        "27.07036772,\n",
        "29.3425467,\n",
        "19.9294163,\n",
        "12.10387785,\n",
        "21.15587705,\n",
        "21.88457416,\n",
        "18.96455997,\n",
        "23.85083154,\n",
        "26.41379926,\n",
        "21.76376329,\n",
        "29.57534791,\n",
        "20.24270745,\n",
        "35.17670133,\n",
        "16.63654419,\n",
        "16.60453799,\n",
        "29.52011684,\n",
        "29.05281136,\n",
        "29.26740751,\n",
        "22.34202987,\n",
        "25.80225636,\n",
        "19.12133286,\n",
        "0.747290713,\n",
        "35.9420979,\n",
        "12.78521475,\n",
        "0,\n",
        "25.6828976,\n",
        "16.21028808,\n",
        "11.97454624,\n",
        "43.4963738,\n",
        "29.94669354,\n",
        "29.75996833,\n",
        "12.13522824,\n",
        "25.53256771,\n",
        "15.79415002,\n",
        "34.72449711,\n",
        "29.94669354,\n",
        "5.278288964,\n",
        "28.51009202,\n",
        "26.00130015,\n",
        "21.64259143,\n",
        "4.198128897,\n",
        "13.74044651,\n",
        "29.10857773,\n",
        "17.67152907,\n",
        "]\n",
        "clen=51\n",
        "a=[]\n",
        "for i in range(clen):\n",
        "  total=abs(float(LSA_org[i])-float(LSA_pred[i]))\n",
        "  a.append(total)"
      ],
      "execution_count": null,
      "outputs": []
    },
    {
      "cell_type": "code",
      "metadata": {
        "colab": {
          "base_uri": "https://localhost:8080/"
        },
        "id": "FvW18sp8BXYK",
        "outputId": "e8120c55-6ee6-49c5-d2bd-1df5f4b9790f"
      },
      "source": [
        "a"
      ],
      "execution_count": null,
      "outputs": [
        {
          "output_type": "execute_result",
          "data": {
            "text/plain": [
              "[0.30282324999999943,\n",
              " 0.37152900700000036,\n",
              " 0.4840339500000006,\n",
              " 0.036012839999997937,\n",
              " 0.72449881,\n",
              " 0.5890240700000007,\n",
              " 0.19969853999999998,\n",
              " 0.5347346399999999,\n",
              " 0.3093776099999985,\n",
              " 0.6003524800000015,\n",
              " 0.2972708500000003,\n",
              " 0.06669443999999913,\n",
              " 0.3773759599999984,\n",
              " 0.942619839999999,\n",
              " 0.33948350000000005,\n",
              " 0.44811857999999916,\n",
              " 0.6013610800000002,\n",
              " 0.08669318000000104,\n",
              " 0.3572925500000004,\n",
              " 0.592078260000001,\n",
              " 0.5634558100000007,\n",
              " 0.8514963099999999,\n",
              " 0.5227208599999997,\n",
              " 1.5426796299999985,\n",
              " 0.06992146000000332,\n",
              " 0.08834992999999969,\n",
              " 0.18916225000000253,\n",
              " 0.6673298999999986,\n",
              " 0.48227974700000004,\n",
              " 0.3117398400000013,\n",
              " 0.25640703999999914,\n",
              " 0.0,\n",
              " 0.6828976000000004,\n",
              " 0.21239354999999804,\n",
              " 0.472058109999999,\n",
              " 0.2808911899999984,\n",
              " 0.5337357200000028,\n",
              " 0.08688622000000024,\n",
              " 0.4101162200000008,\n",
              " 0.3698604600000017,\n",
              " 0.05777813000000087,\n",
              " 0.12181371999999868,\n",
              " 0.44013041000000186,\n",
              " 0.6708221700000001,\n",
              " 0.029812829999997348,\n",
              " 0.6123892000000026,\n",
              " 0.1411571099999982,\n",
              " 0.1493280109999997,\n",
              " 0.3947485999999998,\n",
              " 0.1297449499999992,\n",
              " 0.22434064999999848]"
            ]
          },
          "metadata": {},
          "execution_count": 10
        }
      ]
    },
    {
      "cell_type": "code",
      "metadata": {
        "colab": {
          "base_uri": "https://localhost:8080/"
        },
        "id": "Eg10vCtSW18-",
        "outputId": "9fa92d5b-39c8-4334-930b-baa7fe72bf4c"
      },
      "source": [
        "import numpy as np\n",
        "py_val=[]\n",
        "temp=0\n",
        "for i in range(clen):\n",
        "  temp=temp+float(a[i])\n",
        "  \n",
        "Cobb_mean=np.divide(temp,51)\n",
        "print(\"Mean\",Cobb_mean)"
      ],
      "execution_count": null,
      "outputs": [
        {
          "output_type": "stream",
          "name": "stdout",
          "text": [
            "Mean 0.3887749228431371\n"
          ]
        }
      ]
    },
    {
      "cell_type": "code",
      "metadata": {
        "colab": {
          "base_uri": "https://localhost:8080/"
        },
        "id": "l06LOWMbW-ac",
        "outputId": "dd25c0a3-f3f0-404f-b564-8ed84651cee9"
      },
      "source": [
        "from math import sqrt\n",
        "#Angle STD Dicom\n",
        "temp_py_dicom=0\n",
        "for i in range(clen):\n",
        "  sub=abs(float(a[i])-Cobb_mean)\n",
        "  sub=(sub**2)\n",
        "  temp_py_dicom=temp_py_dicom+sub\n",
        "sq=np.divide(temp_py_dicom,clen)\n",
        "sq=sqrt(sq)\n",
        "print(\" STD\",sq)"
      ],
      "execution_count": null,
      "outputs": [
        {
          "output_type": "stream",
          "name": "stdout",
          "text": [
            " STD 0.2799318938365835\n"
          ]
        }
      ]
    },
    {
      "cell_type": "code",
      "metadata": {
        "colab": {
          "base_uri": "https://localhost:8080/",
          "height": 295
        },
        "id": "RpulDnyhPNEh",
        "outputId": "a2d558c7-7dae-468a-e492-5b58bd516ccb"
      },
      "source": [
        "import numpy as np \n",
        "import matplotlib.pyplot as plt \n",
        "  \n",
        "X = ['L1','L2','L3','L4','L5','L6']\n",
        "Ygirls = [1.665,2.233,2.4287,2.142,2.520,2.983]\n",
        "Zboys = [1.1468,1.1826,1.3533,1.0888,1.7808,1.0894]\n",
        "  \n",
        "X_axis = np.arange(len(X))\n",
        "  \n",
        "plt.bar(X_axis - 0.2, Ygirls, 0.4, label = 'Mean')\n",
        "plt.bar(X_axis + 0.2, Zboys, 0.4, label = 'STD')\n",
        "  \n",
        "plt.xticks(X_axis, X)\n",
        "plt.xlabel(\"Vertebrae\")\n",
        "plt.ylabel(\"Values\")\n",
        "plt.title(\"Euclidean Distance Mean & STD\")\n",
        "plt.legend()\n",
        "#plt.show()\n",
        "plt.savefig('plt2.png')"
      ],
      "execution_count": null,
      "outputs": [
        {
          "output_type": "display_data",
          "data": {
            "image/png": "[encoded data removed]",
            "text/plain": [
              "<Figure size 432x288 with 1 Axes>"
            ]
          },
          "metadata": {
            "needs_background": "light"
          }
        }
      ]
    },
    {
      "cell_type": "code",
      "metadata": {
        "colab": {
          "base_uri": "https://localhost:8080/",
          "height": 295
        },
        "id": "Y7jD0slNXh97",
        "outputId": "ddba79b9-a918-4203-f270-d1650764ccdb"
      },
      "source": [
        "import numpy as np \n",
        "import matplotlib.pyplot as plt \n",
        "  \n",
        "X = ['LLA','LSA']\n",
        "Ygirls = [0.29774749862745054,0.3887749228431371]\n",
        "Zboys = [0.21734761760928464,0.2799318938365835]\n",
        "  \n",
        "X_axis = np.arange(len(X))\n",
        "  \n",
        "plt.bar(X_axis - 0.2, Ygirls, 0.4, label = 'Mean Error')\n",
        "plt.bar(X_axis + 0.2, Zboys, 0.4, label = 'STD')\n",
        "  \n",
        "plt.xticks(X_axis, X)\n",
        "plt.xlabel(\"Angles\")\n",
        "plt.ylabel(\"Values\")\n",
        "plt.title(\"LLA & LSA Mean Error & STD\")\n",
        "plt.legend()\n",
        "#plt.show()\n",
        "plt.savefig('angles.png')"
      ],
      "execution_count": null,
      "outputs": [
        {
          "output_type": "display_data",
          "data": {
            "image/png": "[encoded data removed]",
            "text/plain": [
              "<Figure size 432x288 with 1 Axes>"
            ]
          },
          "metadata": {
            "needs_background": "light"
          }
        }
      ]
    }
  ]
}