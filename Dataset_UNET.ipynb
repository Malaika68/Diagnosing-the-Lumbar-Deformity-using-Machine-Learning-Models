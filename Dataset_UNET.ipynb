{
  "nbformat": 4,
  "nbformat_minor": 0,
  "metadata": {
    "accelerator": "GPU",
    "colab": {
      "provenance": []
    },
    "kernelspec": {
      "display_name": "Python 3",
      "name": "python3"
    },
    "language_info": {
      "name": "python"
    }
  },
  "cells": [
    {
      "cell_type": "code",
      "metadata": {
        "colab": {
          "base_uri": "https://localhost:8080/"
        },
        "id": "3fpnouoELCsZ",
        "outputId": "7cf36d5a-7035-423d-e821-1473f2d43553"
      },
      "source": [
        "cd /content/drive/MyDrive/Dataset_unet"
      ],
      "execution_count": null,
      "outputs": [
        {
          "output_type": "stream",
          "text": [
            "/content/drive/MyDrive/Dataset_unet\n"
          ],
          "name": "stdout"
        }
      ]
    },
    {
      "cell_type": "code",
      "metadata": {
        "colab": {
          "base_uri": "https://localhost:8080/"
        },
        "id": "cDLF_X0WK53Y",
        "outputId": "5d6c538d-ae74-457c-978e-3b744450337c"
      },
      "source": [
        "!git clone https://github.com/divamgupta/image-segmentation-keras.git"
      ],
      "execution_count": null,
      "outputs": [
        {
          "output_type": "stream",
          "text": [
            "Cloning into 'image-segmentation-keras'...\n",
            "remote: Enumerating objects: 1160, done.\u001b[K\n",
            "remote: Total 1160 (delta 0), reused 0 (delta 0), pack-reused 1160\u001b[K\n",
            "Receiving objects: 100% (1160/1160), 3.29 MiB | 25.32 MiB/s, done.\n",
            "Resolving deltas: 100% (747/747), done.\n"
          ],
          "name": "stdout"
        }
      ]
    },
    {
      "cell_type": "code",
      "metadata": {
        "colab": {
          "base_uri": "https://localhost:8080/"
        },
        "id": "Kui76kI2LAKz",
        "outputId": "4d98a9e2-b470-4a43-f40b-b4c1add3eb9b"
      },
      "source": [
        "! pip install git+https://github.com/divamgupta/image-segmentation-keras"
      ],
      "execution_count": null,
      "outputs": [
        {
          "output_type": "stream",
          "text": [
            "Collecting git+https://github.com/divamgupta/image-segmentation-keras\n",
            "  Cloning https://github.com/divamgupta/image-segmentation-keras to /tmp/pip-req-build-fx89ok65\n",
            "  Running command git clone -q https://github.com/divamgupta/image-segmentation-keras /tmp/pip-req-build-fx89ok65\n",
            "Collecting h5py<=2.10.0\n",
            "  Downloading h5py-2.10.0-cp37-cp37m-manylinux1_x86_64.whl (2.9 MB)\n",
            "\u001b[K     |████████████████████████████████| 2.9 MB 5.2 MB/s \n",
            "\u001b[?25hRequirement already satisfied: Keras>=2.0.0 in /usr/local/lib/python3.7/dist-packages (from keras-segmentation==0.3.0) (2.4.3)\n",
            "Collecting imageio==2.5.0\n",
            "  Downloading imageio-2.5.0-py3-none-any.whl (3.3 MB)\n",
            "\u001b[K     |████████████████████████████████| 3.3 MB 54.8 MB/s \n",
            "\u001b[?25hCollecting imgaug>=0.4.0\n",
            "  Downloading imgaug-0.4.0-py2.py3-none-any.whl (948 kB)\n",
            "\u001b[K     |████████████████████████████████| 948 kB 60.6 MB/s \n",
            "\u001b[?25hRequirement already satisfied: opencv-python in /usr/local/lib/python3.7/dist-packages (from keras-segmentation==0.3.0) (4.1.2.30)\n",
            "Requirement already satisfied: tqdm in /usr/local/lib/python3.7/dist-packages (from keras-segmentation==0.3.0) (4.41.1)\n",
            "Requirement already satisfied: numpy in /usr/local/lib/python3.7/dist-packages (from imageio==2.5.0->keras-segmentation==0.3.0) (1.19.5)\n",
            "Requirement already satisfied: pillow in /usr/local/lib/python3.7/dist-packages (from imageio==2.5.0->keras-segmentation==0.3.0) (7.1.2)\n",
            "Requirement already satisfied: six in /usr/local/lib/python3.7/dist-packages (from h5py<=2.10.0->keras-segmentation==0.3.0) (1.15.0)\n",
            "Requirement already satisfied: scikit-image>=0.14.2 in /usr/local/lib/python3.7/dist-packages (from imgaug>=0.4.0->keras-segmentation==0.3.0) (0.16.2)\n",
            "Requirement already satisfied: matplotlib in /usr/local/lib/python3.7/dist-packages (from imgaug>=0.4.0->keras-segmentation==0.3.0) (3.2.2)\n",
            "Requirement already satisfied: Shapely in /usr/local/lib/python3.7/dist-packages (from imgaug>=0.4.0->keras-segmentation==0.3.0) (1.7.1)\n",
            "Requirement already satisfied: scipy in /usr/local/lib/python3.7/dist-packages (from imgaug>=0.4.0->keras-segmentation==0.3.0) (1.4.1)\n",
            "Requirement already satisfied: pyyaml in /usr/local/lib/python3.7/dist-packages (from Keras>=2.0.0->keras-segmentation==0.3.0) (3.13)\n",
            "Requirement already satisfied: PyWavelets>=0.4.0 in /usr/local/lib/python3.7/dist-packages (from scikit-image>=0.14.2->imgaug>=0.4.0->keras-segmentation==0.3.0) (1.1.1)\n",
            "Requirement already satisfied: networkx>=2.0 in /usr/local/lib/python3.7/dist-packages (from scikit-image>=0.14.2->imgaug>=0.4.0->keras-segmentation==0.3.0) (2.5.1)\n",
            "Requirement already satisfied: kiwisolver>=1.0.1 in /usr/local/lib/python3.7/dist-packages (from matplotlib->imgaug>=0.4.0->keras-segmentation==0.3.0) (1.3.1)\n",
            "Requirement already satisfied: python-dateutil>=2.1 in /usr/local/lib/python3.7/dist-packages (from matplotlib->imgaug>=0.4.0->keras-segmentation==0.3.0) (2.8.1)\n",
            "Requirement already satisfied: pyparsing!=2.0.4,!=2.1.2,!=2.1.6,>=2.0.1 in /usr/local/lib/python3.7/dist-packages (from matplotlib->imgaug>=0.4.0->keras-segmentation==0.3.0) (2.4.7)\n",
            "Requirement already satisfied: cycler>=0.10 in /usr/local/lib/python3.7/dist-packages (from matplotlib->imgaug>=0.4.0->keras-segmentation==0.3.0) (0.10.0)\n",
            "Requirement already satisfied: decorator<5,>=4.3 in /usr/local/lib/python3.7/dist-packages (from networkx>=2.0->scikit-image>=0.14.2->imgaug>=0.4.0->keras-segmentation==0.3.0) (4.4.2)\n",
            "Building wheels for collected packages: keras-segmentation\n",
            "  Building wheel for keras-segmentation (setup.py) ... \u001b[?25l\u001b[?25hdone\n",
            "  Created wheel for keras-segmentation: filename=keras_segmentation-0.3.0-py3-none-any.whl size=34556 sha256=2fe7e2ee2990b86c265667d10903fc6083021126b012cc3e75f3cdf4fe0a50cb\n",
            "  Stored in directory: /tmp/pip-ephem-wheel-cache-33mrxj2v/wheels/78/73/a2/4ee9fce73985dcc4f889d3d012a4461d58254d0de99197af00\n",
            "Successfully built keras-segmentation\n",
            "Installing collected packages: imageio, h5py, imgaug, keras-segmentation\n",
            "  Attempting uninstall: imageio\n",
            "    Found existing installation: imageio 2.4.1\n",
            "    Uninstalling imageio-2.4.1:\n",
            "      Successfully uninstalled imageio-2.4.1\n",
            "  Attempting uninstall: h5py\n",
            "    Found existing installation: h5py 3.1.0\n",
            "    Uninstalling h5py-3.1.0:\n",
            "      Successfully uninstalled h5py-3.1.0\n",
            "  Attempting uninstall: imgaug\n",
            "    Found existing installation: imgaug 0.2.9\n",
            "    Uninstalling imgaug-0.2.9:\n",
            "      Successfully uninstalled imgaug-0.2.9\n",
            "\u001b[31mERROR: pip's dependency resolver does not currently take into account all the packages that are installed. This behaviour is the source of the following dependency conflicts.\n",
            "tensorflow 2.5.0 requires h5py~=3.1.0, but you have h5py 2.10.0 which is incompatible.\n",
            "albumentations 0.1.12 requires imgaug<0.2.7,>=0.2.5, but you have imgaug 0.4.0 which is incompatible.\u001b[0m\n",
            "Successfully installed h5py-2.10.0 imageio-2.5.0 imgaug-0.4.0 keras-segmentation-0.3.0\n"
          ],
          "name": "stdout"
        }
      ]
    },
    {
      "cell_type": "code",
      "metadata": {
        "colab": {
          "base_uri": "https://localhost:8080/"
        },
        "id": "Gp-6aX_iLQkr",
        "outputId": "ab833537-422b-4b83-ab76-5ae2f0f17f63"
      },
      "source": [
        "cd /content/drive/MyDrive/Dataset_unet/image-segmentation-keras"
      ],
      "execution_count": null,
      "outputs": [
        {
          "output_type": "stream",
          "text": [
            "/content/drive/MyDrive/Dataset_unet/image-segmentation-keras\n"
          ],
          "name": "stdout"
        }
      ]
    },
    {
      "cell_type": "code",
      "metadata": {
        "id": "RUbF2CCFLaVB"
      },
      "source": [
        "from keras_segmentation.models.unet import vgg_unet\n",
        "from keras_segmentation.models.unet import unet\n",
        "from keras_segmentation.models.unet import resnet50_unet"
      ],
      "execution_count": null,
      "outputs": []
    },
    {
      "cell_type": "code",
      "metadata": {
        "id": "uwwHcMyt2l6H"
      },
      "source": [
        "from keras_segmentation.models.segnet import segnet\n",
        "from keras_segmentation.models.segnet import vgg_segnet\n",
        "from keras_segmentation.models.fcn import fcn_8, fcn_32\n"
      ],
      "execution_count": null,
      "outputs": []
    },
    {
      "cell_type": "code",
      "metadata": {
        "colab": {
          "base_uri": "https://localhost:8080/"
        },
        "id": "KVW6NFVzLcV7",
        "outputId": "7b1e7cca-6650-441a-e09b-581fb503923f"
      },
      "source": [
        "\n",
        "modelt = unet(n_classes=7 ,  input_height=320, input_width=320 , encoder_level=3, channels=3 )\n",
        "\n",
        "\n",
        "modelt.train(\n",
        "   train_images =  \"/content/drive/MyDrive/k3b363f3vz-2/1. Images\",\n",
        "    train_annotations = \"/content/drive/MyDrive/k3b363f3vz-2/2. Ground Truth Labels\",checkpoints_path = \"/content/drive/MyDrive/Dataset_unet/\" , epochs=5\n",
        ")"
      ],
      "execution_count": null,
      "outputs": [
        {
          "output_type": "stream",
          "text": [
            "Verifying training dataset\n"
          ],
          "name": "stdout"
        },
        {
          "output_type": "stream",
          "text": [
            "100%|██████████| 514/514 [04:54<00:00,  1.75it/s]\n"
          ],
          "name": "stderr"
        },
        {
          "output_type": "stream",
          "text": [
            "Dataset verified! \n",
            "Epoch 1/5\n",
            "512/512 [==============================] - 2147s 4s/step - loss: 0.4380 - accuracy: 0.9144\n",
            "\n",
            "Epoch 00001: saving model to /content/drive/MyDrive/Dataset_unet/.00001\n",
            "Epoch 2/5\n",
            "512/512 [==============================] - 2117s 4s/step - loss: 0.0446 - accuracy: 0.9840\n",
            "\n",
            "Epoch 00002: saving model to /content/drive/MyDrive/Dataset_unet/.00002\n",
            "Epoch 3/5\n",
            " 97/512 [====>.........................] - ETA: 28:23 - loss: 0.1202 - accuracy: 0.9607"
          ],
          "name": "stdout"
        }
      ]
    },
    {
      "cell_type": "code",
      "metadata": {
        "id": "sjjGC7ur2Oak"
      },
      "source": [
        "import tensorflow as tf\n",
        "from tensorflow import keras"
      ],
      "execution_count": null,
      "outputs": []
    },
    {
      "cell_type": "code",
      "metadata": {
        "colab": {
          "base_uri": "https://localhost:8080/"
        },
        "id": "N6hFl_BA0dRa",
        "outputId": "717c3793-6fb4-44cc-a6ac-ae569ca983ad"
      },
      "source": [
        "\n",
        "model1 = segnet(n_classes=7 ,  input_height=320, input_width=320 , encoder_level=3, channels=3 )\n",
        "\n",
        "\n",
        "model1.train(\n",
        "    train_images =  \"/content/drive/MyDrive/Dataset_unet/1. Images\",\n",
        "    train_annotations = \"/content/drive/MyDrive/Dataset_unet/2. Ground Truth Labels\",\n",
        "    checkpoints_path = \"/content/drive/MyDrive/Dataset_unet/\" , epochs=5\n",
        ")"
      ],
      "execution_count": null,
      "outputs": [
        {
          "output_type": "stream",
          "text": [
            "\r  0%|          | 0/463 [00:00<?, ?it/s]"
          ],
          "name": "stderr"
        },
        {
          "output_type": "stream",
          "text": [
            "Verifying training dataset\n"
          ],
          "name": "stdout"
        },
        {
          "output_type": "stream",
          "text": [
            "100%|██████████| 463/463 [00:03<00:00, 140.40it/s]\n"
          ],
          "name": "stderr"
        },
        {
          "output_type": "stream",
          "text": [
            "Dataset verified! \n",
            "Epoch 1/5\n",
            "512/512 [==============================] - 26s 44ms/step - loss: 0.7468 - accuracy: 0.8428\n",
            "\n",
            "Epoch 00001: saving model to /content/drive/MyDrive/Dataset_unet/.00001\n",
            "Epoch 2/5\n",
            "512/512 [==============================] - 23s 44ms/step - loss: 0.0559 - accuracy: 0.9797\n",
            "\n",
            "Epoch 00002: saving model to /content/drive/MyDrive/Dataset_unet/.00002\n",
            "Epoch 3/5\n",
            "512/512 [==============================] - 23s 45ms/step - loss: 0.0400 - accuracy: 0.9852\n",
            "\n",
            "Epoch 00003: saving model to /content/drive/MyDrive/Dataset_unet/.00003\n",
            "Epoch 4/5\n",
            "512/512 [==============================] - 23s 45ms/step - loss: 0.0320 - accuracy: 0.9883\n",
            "\n",
            "Epoch 00004: saving model to /content/drive/MyDrive/Dataset_unet/.00004\n",
            "Epoch 5/5\n",
            "512/512 [==============================] - 23s 46ms/step - loss: 0.0255 - accuracy: 0.9905\n",
            "\n",
            "Epoch 00005: saving model to /content/drive/MyDrive/Dataset_unet/.00005\n"
          ],
          "name": "stdout"
        }
      ]
    },
    {
      "cell_type": "code",
      "metadata": {
        "id": "2C6kGUa4wZPA"
      },
      "source": [
        "from  keras_segmentation.models.basic_models import vanilla_encoder\n",
        "model2 = fcn_32(n_classes=7 ,  input_height=320, input_width=320 ,  encoder=vanilla_encoder, channels=3 )\n",
        "\n",
        "\n",
        "model2.train(\n",
        "    train_images =  \"/content/drive/MyDrive/k3b363f3vz-2/1. Images\",\n",
        "    train_annotations = \"/content/drive/MyDrive/k3b363f3vz-2/2. Ground Truth Labels\", epochs=5\n",
        ")"
      ],
      "execution_count": null,
      "outputs": []
    },
    {
      "cell_type": "code",
      "metadata": {
        "colab": {
          "base_uri": "https://localhost:8080/"
        },
        "id": "fXi0m5M9SnNP",
        "outputId": "a308c03d-b248-43be-c84d-fea2acb29a1b"
      },
      "source": [
        "# Saving the model\n",
        "model.save('/content/drive/MyDrive/Dataset_unet/final_model.h5')\n",
        "print('Model saved')"
      ],
      "execution_count": null,
      "outputs": [
        {
          "output_type": "stream",
          "text": [
            "Model saved\n"
          ],
          "name": "stdout"
        }
      ]
    },
    {
      "cell_type": "code",
      "metadata": {
        "id": "cMGbGknBF0c9"
      },
      "source": [
        "from tensorflow.keras.models import load_model\n",
        "model = load_model('/content/drive/MyDrive/Dataset_unet/final_model.h5')"
      ],
      "execution_count": null,
      "outputs": []
    },
    {
      "cell_type": "code",
      "metadata": {
        "id": "aj0M0r5E3cYa"
      },
      "source": [
        "out1 = model1.predict_segmentation(\n",
        "    inp=\"/content/drive/MyDrive/Dataset_unet/test/T1_0120_S8.png\",\n",
        "    out_fname=\"/content/drive/MyDrive/Dataset_unet/out12.png\"\n",
        ")"
      ],
      "execution_count": null,
      "outputs": []
    },
    {
      "cell_type": "code",
      "metadata": {
        "id": "co17Y6Ex6guF"
      },
      "source": [
        "out2 = model2.predict_segmentation(\n",
        "    inp=\"/content/drive/MyDrive/Dataset_unet/test/T1_0120_S8.png\",\n",
        "    out_fname=\"/content/drive/MyDrive/Dataset_unet/out13.png\"\n",
        ")"
      ],
      "execution_count": null,
      "outputs": []
    },
    {
      "cell_type": "code",
      "metadata": {
        "colab": {
          "base_uri": "https://localhost:8080/"
        },
        "id": "yt0CJeJJr1RH",
        "outputId": "4509dc72-0488-44ca-a54e-1510928153ce"
      },
      "source": [
        "cd /content/drive/MyDrive/Dataset_unet/test"
      ],
      "execution_count": null,
      "outputs": [
        {
          "output_type": "stream",
          "text": [
            "/content/drive/MyDrive/Dataset_unet/test\n"
          ],
          "name": "stdout"
        }
      ]
    },
    {
      "cell_type": "code",
      "metadata": {
        "id": "uX7c6c9UMjdM"
      },
      "source": [
        "out = model.predict_segmentation(\n",
        "    inp=\"/content/drive/MyDrive/Dataset_unet/test/T1_0008_S7.png\",\n",
        "    out_fname=\"/content/drive/MyDrive/Dataset_unet/Test Images/T1_0008_S7.png\"\n",
        ")"
      ],
      "execution_count": null,
      "outputs": []
    },
    {
      "cell_type": "code",
      "metadata": {
        "colab": {
          "base_uri": "https://localhost:8080/",
          "height": 337
        },
        "id": "5YW83dRMFjQx",
        "outputId": "4cb52e9e-ee5f-4af1-e808-a4f7c56bda8a"
      },
      "source": [
        "import cv2\n",
        "from google.colab.patches import cv2_imshow\n",
        "a=cv2.imread('/content/drive/MyDrive/Dataset_unet/out11.png',0)\n",
        "b=cv2.imread('/content/drive/MyDrive/Dataset_unet/out11.png')\n",
        "b1=cv2.imread('/content/drive/MyDrive/Dataset_unet/out11.png')\n",
        "ret, bw_img = cv2.threshold(a,127,255,cv2.THRESH_BINARY)\n",
        "cv2_imshow(b)"
      ],
      "execution_count": null,
      "outputs": [
        {
          "output_type": "display_data",
          "data": {
            "image/png": "[encoded data removed]",
            "text/plain": [
              "<PIL.Image.Image image mode=RGB size=320x320 at 0x7FDA7808AC10>"
            ]
          },
          "metadata": {
            "tags": []
          }
        }
      ]
    },
    {
      "cell_type": "code",
      "metadata": {
        "colab": {
          "base_uri": "https://localhost:8080/",
          "height": 374
        },
        "id": "FlY04HKMPdm7",
        "outputId": "90320593-7a25-4f7a-abf5-652759dc7282"
      },
      "source": [
        "import cv2\n",
        "from google.colab.patches import cv2_imshow\n",
        "img = cv2.imread('/content/drive/MyDrive/Dataset_unet/out11.png', cv2.IMREAD_UNCHANGED)\n",
        " \n",
        "print('Original Dimensions : ',img.shape)\n",
        " \n",
        "scale_percent = 60 # percent of original size\n",
        "width =320\n",
        "height = 320\n",
        "dim = (width, height)\n",
        "  \n",
        "# resize image\n",
        "resized = cv2.resize(img, dim, interpolation = cv2.INTER_AREA)\n",
        "resized1 = cv2.resize(img, dim, interpolation = cv2.INTER_AREA)\n",
        "from google.colab.patches import cv2_imshow\n",
        "print('Resized Dimensions : ',resized.shape)\n",
        "cv2.imwrite('/content/drive/MyDrive/Dataset_unet/color.png',resized)\n",
        "cv2_imshow(resized)\n",
        "cv2.waitKey(0)\n",
        "cv2.destroyAllWindows()"
      ],
      "execution_count": null,
      "outputs": [
        {
          "output_type": "stream",
          "text": [
            "Original Dimensions :  (320, 320, 3)\n",
            "Resized Dimensions :  (320, 320, 3)\n"
          ],
          "name": "stdout"
        },
        {
          "output_type": "display_data",
          "data": {
            "image/png": "[encoded data removed]",
            "text/plain": [
              "<PIL.Image.Image image mode=RGB size=320x320 at 0x7FDBA0D5D210>"
            ]
          },
          "metadata": {
            "tags": []
          }
        }
      ]
    },
    {
      "cell_type": "code",
      "metadata": {
        "colab": {
          "base_uri": "https://localhost:8080/",
          "height": 337
        },
        "id": "A-C5aEn3QtBK",
        "outputId": "bb0c41fd-5ead-4431-c9d5-a43621e63f02"
      },
      "source": [
        "gray=cv2.cvtColor(b,cv2.COLOR_BGR2GRAY)\n",
        "cv2_imshow(gray)"
      ],
      "execution_count": null,
      "outputs": [
        {
          "output_type": "display_data",
          "data": {
            "image/png": "[encoded data removed]",
            "text/plain": [
              "<PIL.Image.Image image mode=L size=320x320 at 0x7FDB97A3E050>"
            ]
          },
          "metadata": {
            "tags": []
          }
        }
      ]
    },
    {
      "cell_type": "code",
      "metadata": {
        "id": "3zRWLtrYIxh-"
      },
      "source": [
        "col=320\n",
        "q=[]\n",
        "row=320\n",
        "for i in range(0,col-1):\n",
        "  for j in range(0,row-1):\n",
        "    l=gray[i][j]\n",
        "    q.append(l)\n",
        "    #print(l)\n",
        "    if (l == 155):\n",
        "      gray[i][j]=0"
      ],
      "execution_count": null,
      "outputs": []
    },
    {
      "cell_type": "code",
      "metadata": {
        "id": "9ItOLLm1Inx7"
      },
      "source": [
        "col=320\n",
        "q=[]\n",
        "row=320\n",
        "for i in range(0,col-1):\n",
        "  for j in range(0,row-1):\n",
        "    l=gray[i][j]\n",
        "    #print(l)\n",
        "    if (l == 223):\n",
        "      gray[i][j]=255"
      ],
      "execution_count": null,
      "outputs": []
    },
    {
      "cell_type": "code",
      "metadata": {
        "id": "gzhIQ15eI2xh"
      },
      "source": [
        "col=320\n",
        "q=[]\n",
        "row=320\n",
        "for i in range(0,col-1):\n",
        "  for j in range(0,row-1):\n",
        "    l=gray[i][j]\n",
        "    q.append(l)\n",
        "    #print(l)\n",
        "    if (l == 216):\n",
        "      gray[i][j]=254"
      ],
      "execution_count": null,
      "outputs": []
    },
    {
      "cell_type": "code",
      "metadata": {
        "id": "mAM2af-GJEZ6"
      },
      "source": [
        "col=320\n",
        "q=[]\n",
        "row=320\n",
        "for i in range(0,col-1):\n",
        "  for j in range(0,row-1):\n",
        "    l=gray[i][j]\n",
        "    q.append(l)\n",
        "    #print(l)\n",
        "    if (l == 97):\n",
        "      gray[i][j]=253"
      ],
      "execution_count": null,
      "outputs": []
    },
    {
      "cell_type": "code",
      "metadata": {
        "id": "30y5hAxrJJwU"
      },
      "source": [
        "col=320\n",
        "q=[]\n",
        "row=320\n",
        "for i in range(0,col-1):\n",
        "  for j in range(0,row-1):\n",
        "    l=gray[i][j]\n",
        "    q.append(l)\n",
        "    #print(l)\n",
        "    if (l == 75):\n",
        "      gray[i][j]=252"
      ],
      "execution_count": null,
      "outputs": []
    },
    {
      "cell_type": "code",
      "metadata": {
        "id": "8ry_fx-NJPeg"
      },
      "source": [
        "col=320\n",
        "q=[]\n",
        "row=320\n",
        "for i in range(0,col-1):\n",
        "  for j in range(0,row-1):\n",
        "    l=gray[i][j]\n",
        "    q.append(l)\n",
        "    #print(l)\n",
        "    if (l == 116):\n",
        "      gray[i][j]=251"
      ],
      "execution_count": null,
      "outputs": []
    },
    {
      "cell_type": "code",
      "metadata": {
        "id": "-kl-d4s_JTjH"
      },
      "source": [
        "col=320\n",
        "q=[]\n",
        "row=320\n",
        "for i in range(0,col-1):\n",
        "  for j in range(0,row-1):\n",
        "    l=gray[i][j]\n",
        "    q.append(l)\n",
        "    #print(l)\n",
        "    if (l == 175):\n",
        "      gray[i][j]=250"
      ],
      "execution_count": null,
      "outputs": []
    },
    {
      "cell_type": "code",
      "metadata": {
        "id": "xmDi4_EyJTt8"
      },
      "source": [
        "import numpy as np\n",
        "img3=np.where(gray==255,1,0)\n",
        "img31=np.where(gray==254,2,0)\n",
        "img32=np.where(gray==253,3,0)\n",
        "img33=np.where(gray==252,4,0)\n",
        "img34=np.where(gray==251,5,0)\n",
        "img3_6=np.where(gray==250,6,0)"
      ],
      "execution_count": null,
      "outputs": []
    },
    {
      "cell_type": "code",
      "metadata": {
        "id": "cRvyg_Iduhip"
      },
      "source": [
        "org_img=img3+img31+img32+img33+img34+img3_6"
      ],
      "execution_count": null,
      "outputs": []
    },
    {
      "cell_type": "code",
      "metadata": {
        "colab": {
          "base_uri": "https://localhost:8080/",
          "height": 337
        },
        "id": "ekyI_SYsGrJc",
        "outputId": "b7160653-3c47-4d1b-e04e-84d19bf6880a"
      },
      "source": [
        "cv2_imshow(org_img)"
      ],
      "execution_count": null,
      "outputs": [
        {
          "output_type": "display_data",
          "data": {
            "image/png": "[encoded data removed]",
            "text/plain": [
              "<PIL.Image.Image image mode=L size=320x320 at 0x7FDB97797CD0>"
            ]
          },
          "metadata": {
            "tags": []
          }
        }
      ]
    },
    {
      "cell_type": "code",
      "metadata": {
        "id": "75wGTlMdvGEw",
        "colab": {
          "base_uri": "https://localhost:8080/",
          "height": 337
        },
        "outputId": "873d7030-3fb1-44b2-eb61-d5245d6bad92"
      },
      "source": [
        "img=cv2.imread('/content/drive/MyDrive/Dataset_unet/labels test/T1_0569_S8.png')\n",
        "grayo = cv2.cvtColor(img, cv2.COLOR_BGR2GRAY)\n",
        "cv2_imshow(grayo)"
      ],
      "execution_count": null,
      "outputs": [
        {
          "output_type": "display_data",
          "data": {
            "image/png": "[encoded data removed]",
            "text/plain": [
              "<PIL.Image.Image image mode=L size=320x320 at 0x7FDB97753D10>"
            ]
          },
          "metadata": {
            "tags": []
          }
        }
      ]
    },
    {
      "cell_type": "code",
      "metadata": {
        "colab": {
          "base_uri": "https://localhost:8080/"
        },
        "id": "EdRuhUclvsZb",
        "outputId": "6ce300a4-d769-413f-f81b-b57ad23d44e0"
      },
      "source": [
        "def dice_coef(img, img2):\n",
        "        if img.shape != img2.shape:\n",
        "            raise ValueError(\"Shape mismatch: img and img2 must have to be of the same shape.\")\n",
        "        else:\n",
        "            \n",
        "            lenIntersection=0\n",
        "            \n",
        "            for i in range(img.shape[0]):\n",
        "                for j in range(img.shape[1]):\n",
        "                    if ( np.array_equal(img[i][j],img2[i][j]) ):\n",
        "                        lenIntersection+=1\n",
        "             \n",
        "            lenimg=img.shape[0]*img.shape[1]\n",
        "            lenimg2=img2.shape[0]*img2.shape[1]  \n",
        "            value = (2. * lenIntersection  / (lenimg + lenimg2))\n",
        "        return value\n",
        "x=dice_coef(org_img,grayo)\n",
        "print(x)"
      ],
      "execution_count": null,
      "outputs": [
        {
          "output_type": "stream",
          "text": [
            "0.99263671875\n"
          ],
          "name": "stdout"
        }
      ]
    },
    {
      "cell_type": "code",
      "metadata": {
        "colab": {
          "base_uri": "https://localhost:8080/"
        },
        "id": "fGQtULrmtsde",
        "outputId": "9acde2bc-606d-44b5-cf05-f33059fcd402"
      },
      "source": [
        "intersection = np.logical_and(img,resized)\n",
        "union = np.logical_or(img,resized)\n",
        "iou_score = np.sum(intersection) / np.sum(union)\n",
        "print(iou_score)"
      ],
      "execution_count": null,
      "outputs": [
        {
          "output_type": "stream",
          "text": [
            "1.0\n"
          ],
          "name": "stdout"
        }
      ]
    },
    {
      "cell_type": "code",
      "metadata": {
        "colab": {
          "base_uri": "https://localhost:8080/",
          "height": 337
        },
        "id": "IA20xG0-Gvzn",
        "outputId": "86a8b26b-8244-4862-c3d7-22efa4ee47ea"
      },
      "source": [
        "import cv2\n",
        "import numpy as np\n",
        "\n",
        "\n",
        "\n",
        "gray_l = np.float32(result)\n",
        "dst = cv2.cornerHarris(gray_l,2,3,0.04)\n",
        "\n",
        "#result is dilated for marking the corners, not important\n",
        "dst = cv2.dilate(dst,None)\n",
        "\n",
        "# Threshold for an optimal value, it may vary depending on the image.\n",
        "resized[dst>0.01*dst.max()]=[0,0,255]\n",
        "#204, 244,  182  ,265 \n",
        "px=182\n",
        "py=265\n",
        "#cv2.circle(b,(int(px),int(py)), radius=2, color=(0, 0,255), thickness=-1)\n",
        "cv2_imshow(resized)\n",
        "if cv2.waitKey(0) & 0xff == 27:\n",
        "    cv2.destroyAllWindows()\n"
      ],
      "execution_count": null,
      "outputs": [
        {
          "output_type": "display_data",
          "data": {
            "image/png": "[encoded data removed]",
            "text/plain": [
              "<PIL.Image.Image image mode=RGB size=320x320 at 0x7F62943C0990>"
            ]
          },
          "metadata": {
            "tags": []
          }
        }
      ]
    },
    {
      "cell_type": "code",
      "metadata": {
        "colab": {
          "base_uri": "https://localhost:8080/",
          "height": 337
        },
        "id": "_D33vc5bOvU5",
        "outputId": "33cf3e11-a4e1-4709-e288-e1408d7d1981"
      },
      "source": [
        "import cv2\n",
        "import numpy as np\n",
        "\n",
        "\n",
        "\n",
        "gray_l = np.float32(result1)\n",
        "dst = cv2.cornerHarris(gray_l,2,3,0.04)\n",
        "\n",
        "#result is dilated for marking the corners, not important\n",
        "dst = cv2.dilate(dst,None)\n",
        "\n",
        "# Threshold for an optimal value, it may vary depending on the image.\n",
        "resized[dst>0.01*dst.max()]=[0,0,255]\n",
        "\n",
        "cv2_imshow(resized)\n",
        "if cv2.waitKey(0) & 0xff == 27:\n",
        "    cv2.destroyAllWindows()\n"
      ],
      "execution_count": null,
      "outputs": [
        {
          "output_type": "display_data",
          "data": {
            "image/png": "[encoded data removed]",
            "text/plain": [
              "<PIL.Image.Image image mode=RGB size=320x320 at 0x7F6352289790>"
            ]
          },
          "metadata": {
            "tags": []
          }
        }
      ]
    },
    {
      "cell_type": "code",
      "metadata": {
        "id": "nUNC1g0NHQJ-"
      },
      "source": [
        "img_hsv=cv2.cvtColor(resized, cv2.COLOR_BGR2HSV)\n",
        "\n",
        "# lower mask (0-10)\n",
        "lower_red = np.array([0,50,50])\n",
        "upper_red = np.array([10,255,255])\n",
        "mask0 = cv2.inRange(img_hsv, lower_red, upper_red)\n",
        "\n",
        "# upper mask (170-180)\n",
        "lower_red = np.array([0,0,255])\n",
        "upper_red = np.array([0,0,255])\n",
        "mask1 = cv2.inRange(img_hsv, lower_red, upper_red)\n",
        "\n",
        "# join my masks\n",
        "mask = mask1+mask0\n",
        "\n",
        "# set my output img to zero everywhere except my mask\n",
        "output_img = resized.copy()\n",
        "output_img[np.where(mask==0)] = 0\n",
        "\n",
        "# or your HSV image, which I *believe* is what you want\n",
        "output_hsv = img_hsv.copy()\n",
        "output_hsv[np.where(mask==0)] = 0"
      ],
      "execution_count": null,
      "outputs": []
    },
    {
      "cell_type": "code",
      "metadata": {
        "id": "Vv_yoY76OyIN"
      },
      "source": [
        "img_hsv=cv2.cvtColor(resized1, cv2.COLOR_BGR2HSV)\n",
        "\n",
        "# lower mask (0-10)\n",
        "lower_red = np.array([0,50,50])\n",
        "upper_red = np.array([10,255,255])\n",
        "mask0 = cv2.inRange(img_hsv, lower_red, upper_red)\n",
        "\n",
        "# upper mask (170-180)\n",
        "lower_red = np.array([0,0,255])\n",
        "upper_red = np.array([0,0,255])\n",
        "mask1 = cv2.inRange(img_hsv, lower_red, upper_red)\n",
        "\n",
        "# join my masks\n",
        "mask = mask1+mask0\n",
        "\n",
        "# set my output img to zero everywhere except my mask\n",
        "output_img1 = resized1.copy()\n",
        "output_img1[np.where(mask==0)] = 0\n",
        "\n",
        "# or your HSV image, which I *believe* is what you want\n",
        "output_hsv1 = img_hsv.copy()\n",
        "output_hsv1[np.where(mask==0)] = 0"
      ],
      "execution_count": null,
      "outputs": []
    },
    {
      "cell_type": "code",
      "metadata": {
        "colab": {
          "base_uri": "https://localhost:8080/"
        },
        "id": "4V8Cc39mHbf1",
        "outputId": "b68933db-d82a-4bc6-e050-322e66e8988c"
      },
      "source": [
        "rows,cols,n=output_img.shape\n",
        "print(rows)\n",
        "print(cols)\n",
        "k=0\n",
        "pixels=[]\n",
        "for i in range(0,rows):\n",
        "  for j in range(0,cols):\n",
        "    for n1 in range(0,n):\n",
        "      if (output_img[i,j,n1]!=0):\n",
        "        pixels.append((i,j))\n",
        "print(pixels)\n",
        "len(pixels)"
      ],
      "execution_count": null,
      "outputs": [
        {
          "output_type": "stream",
          "text": [
            "320\n",
            "320\n",
            "[(235, 194), (235, 195), (235, 196), (235, 197), (236, 193), (236, 194), (236, 195), (236, 196), (236, 197), (237, 193), (237, 194), (237, 195), (237, 196), (237, 197), (238, 193), (238, 194), (238, 195), (238, 196), (238, 197), (239, 193), (239, 194), (239, 195), (254, 206), (254, 207), (254, 208), (254, 209), (254, 210), (254, 211), (254, 212), (255, 206), (255, 207), (255, 208), (255, 209), (255, 210), (255, 211), (255, 212), (256, 160), (256, 161), (256, 162), (256, 163), (256, 164), (256, 165), (256, 166), (256, 206), (256, 207), (256, 208), (256, 209), (256, 210), (256, 211), (256, 212), (257, 160), (257, 161), (257, 162), (257, 163), (257, 164), (257, 165), (257, 166), (258, 160), (258, 161), (258, 162), (258, 163), (258, 164), (258, 165), (258, 166), (270, 196), (270, 197), (270, 198), (271, 196), (271, 197), (271, 198), (272, 196), (272, 197), (272, 198), (273, 196), (273, 197), (273, 198), (274, 196), (274, 197), (274, 198), (275, 196), (275, 197), (275, 198), (276, 196), (276, 197), (276, 198)]\n"
          ],
          "name": "stdout"
        },
        {
          "output_type": "execute_result",
          "data": {
            "text/plain": [
              "85"
            ]
          },
          "metadata": {
            "tags": []
          },
          "execution_count": 355
        }
      ]
    },
    {
      "cell_type": "code",
      "metadata": {
        "colab": {
          "base_uri": "https://localhost:8080/",
          "height": 337
        },
        "id": "w9TKrrS-QHhm",
        "outputId": "07432c53-da9d-486f-e29f-446225ecb603"
      },
      "source": [
        "px =  160  #194 \n",
        "py= 257#235\n",
        "cv2.circle(output_img,(int(px),int(py)), radius=2, color=(0, 255,0), thickness=-1)\n",
        "cv2_imshow(output_img)"
      ],
      "execution_count": null,
      "outputs": [
        {
          "output_type": "display_data",
          "data": {
            "image/png": "[encoded data removed]",
            "text/plain": [
              "<PIL.Image.Image image mode=RGB size=320x320 at 0x7F642AA38210>"
            ]
          },
          "metadata": {
            "tags": []
          }
        }
      ]
    },
    {
      "cell_type": "code",
      "metadata": {
        "colab": {
          "base_uri": "https://localhost:8080/"
        },
        "id": "OR3K5K3nPjMa",
        "outputId": "e2e2edb3-fb69-4af5-9942-ef8cfe15a4ba"
      },
      "source": [
        "rows,cols,n=output_img1.shape\n",
        "print(rows)\n",
        "print(cols)\n",
        "k=0\n",
        "pixels=[]\n",
        "for i in range(0,rows):\n",
        "  for j in range(0,cols):\n",
        "    for n1 in range(0,n):\n",
        "      if (output_img1[i,j,n1]!=0):\n",
        "        pixels.append((i,j))\n",
        "print(pixels)\n",
        "len(pixels)"
      ],
      "execution_count": null,
      "outputs": [
        {
          "output_type": "stream",
          "text": [
            "320\n",
            "320\n",
            "[(200, 183), (200, 184), (200, 185), (200, 186), (201, 183), (201, 184), (201, 185), (201, 186), (202, 183), (202, 184), (202, 185), (202, 186), (203, 183), (203, 184), (203, 185), (227, 187), (227, 188), (227, 189), (227, 190), (228, 187), (228, 188), (228, 189), (228, 190), (228, 191), (229, 187), (229, 188), (229, 189), (229, 190), (229, 191), (230, 187), (230, 188), (230, 189), (230, 190), (230, 191), (231, 188), (231, 189), (231, 190), (231, 191), (237, 155), (237, 156), (237, 157), (238, 154), (238, 155), (238, 156), (238, 157), (239, 154), (239, 155), (239, 156), (239, 157), (240, 154), (240, 155), (240, 156), (240, 157)]\n"
          ],
          "name": "stdout"
        },
        {
          "output_type": "execute_result",
          "data": {
            "text/plain": [
              "53"
            ]
          },
          "metadata": {
            "tags": []
          },
          "execution_count": 356
        }
      ]
    },
    {
      "cell_type": "code",
      "metadata": {
        "colab": {
          "base_uri": "https://localhost:8080/",
          "height": 337
        },
        "id": "QNwPwBsuIRH-",
        "outputId": "1ab9f9f9-ebeb-455e-a622-0377ef0575ea"
      },
      "source": [
        "px =  190\n",
        "py=  231\n",
        "cv2.circle(output_img1,(int(px),int(py)), radius=2, color=(0, 0,255), thickness=-1)\n",
        "cv2_imshow(output_img1)"
      ],
      "execution_count": null,
      "outputs": [
        {
          "output_type": "display_data",
          "data": {
            "image/png": "[encoded data removed]",
            "text/plain": [
              "<PIL.Image.Image image mode=RGB size=320x320 at 0x7F629444FE90>"
            ]
          },
          "metadata": {
            "tags": []
          }
        }
      ]
    },
    {
      "cell_type": "code",
      "metadata": {
        "colab": {
          "base_uri": "https://localhost:8080/"
        },
        "id": "4XkwGTY1Hp62",
        "outputId": "feee5c41-57ad-4446-ac5d-f3220c6f85fe"
      },
      "source": [
        "import math\n",
        "pi=3.14\n",
        "m1=slope(190,231, 153 ,237 )\n",
        "print(\"Slope of Line 1, m1=\",m1)\n",
        "m2=slope(194,235, 162 , 259  )\n",
        "print(\"Slope of Line 2, m2=\",m2)\n",
        "n=m1-m2\n",
        "d=1+(m1*m2)\n",
        "print(\"Angle\",(np.arctan(n/d)) * 180 / pi  )"
      ],
      "execution_count": null,
      "outputs": [
        {
          "output_type": "stream",
          "text": [
            "Slope of Line 1, m1= -0.16216216216216217\n",
            "Slope of Line 2, m2= -0.75\n",
            "Angle 27.672900086032147\n"
          ],
          "name": "stdout"
        }
      ]
    },
    {
      "cell_type": "code",
      "metadata": {
        "colab": {
          "base_uri": "https://localhost:8080/",
          "height": 657
        },
        "id": "jSKdtBHPHuYw",
        "outputId": "584595c9-59bd-4a1b-c479-c57b5e9da87c"
      },
      "source": [
        "a=output_img+output_img1\n",
        "drawLine(a,190,231, 153 ,237  )\n",
        "drawLine(a,194,235, 162 , 259  )"
      ],
      "execution_count": null,
      "outputs": [
        {
          "output_type": "display_data",
          "data": {
            "image/png": "[encoded data removed]",
            "text/plain": [
              "<PIL.Image.Image image mode=RGB size=320x320 at 0x7F63523B1ED0>"
            ]
          },
          "metadata": {
            "tags": []
          }
        },
        {
          "output_type": "display_data",
          "data": {
            "image/png": "[encoded data removed]",
            "text/plain": [
              "<PIL.Image.Image image mode=RGB size=320x320 at 0x7F63523B1C10>"
            ]
          },
          "metadata": {
            "tags": []
          }
        }
      ]
    },
    {
      "cell_type": "code",
      "metadata": {
        "id": "3UrFjiB9Hg2Q"
      },
      "source": [
        "# a = pt 1 on line 1\n",
        "# b = pt 2 on line 1\n",
        "# c = pt 1 on line 2\n",
        "# d = pt 2 on line 2\n",
        "def intersect(a,b,c,d):\n",
        "\n",
        "    # stuff for line 1\n",
        "    a1 = b[1]-a[1]\n",
        "    b1 = a[0]-b[0]\n",
        "    c1 = a1*a[0] + b1*a[1]\n",
        "\n",
        "    # stuff for line 2\n",
        "    a2 = d[1]-c[1]\n",
        "    b2 = c[0]-d[0]\n",
        "    c2 = a2*c[0] + b2*c[1]\n",
        "\n",
        "    determinant = a1*b2 - a2*b1\n",
        "\n",
        "    if (determinant == 0):\n",
        "        # Return (infinity, infinity) if they never intersect\n",
        "        # By \"never intersect\", I mean that the lines are parallel to each other\n",
        "        return math.inf, math,inf\n",
        "    else:\n",
        "        x = (b2*c1 - b1*c2)/determinant\n",
        "        y = (a1*c2 - a2*c1)/determinant\n",
        "        return x,y"
      ],
      "execution_count": null,
      "outputs": []
    },
    {
      "cell_type": "code",
      "metadata": {
        "id": "hZCZ6gqMHiHN"
      },
      "source": [
        "def slope(x1,y1,x2,y2):\n",
        "    ###finding slope\n",
        "    if x2!=x1:\n",
        "        return((y2-y1)/(x2-x1))\n",
        "    else:\n",
        "        return 'NA'\n",
        "\n",
        "def drawLine(image,x1,y1,x2,y2):\n",
        "\n",
        "    m=slope(x1,y1,x2,y2)\n",
        "    h,w=image.shape[:2]\n",
        "    if m!='NA':\n",
        "        ### here we are essentially extending the line to x=0 and x=width\n",
        "        ### and calculating the y associated with it\n",
        "        ##starting point\n",
        "        px=0\n",
        "        py=-(x1-0)*m+y1\n",
        "        ##ending point\n",
        "        qx=w\n",
        "        qy=-(x2-w)*m+y2\n",
        "    else:\n",
        "    ### if slope is zero, draw a line with x=x1 and y=0 and y=height\n",
        "        px,py=x1,0\n",
        "        qx,qy=x1,h\n",
        "    cv2.line(image, (int(px), int(py)), (int(qx), int(qy)), (0, 255, 0), 1)\n",
        "    cv2_imshow(image)"
      ],
      "execution_count": null,
      "outputs": []
    },
    {
      "cell_type": "code",
      "metadata": {
        "id": "tRW_OeHYJHed"
      },
      "source": [
        "import os\n",
        "import glob\n",
        "import pandas as pd\n",
        "df = pd.DataFrame(q,columns=['ymax'])\n",
        "df.to_csv(\"org.csv\",index=False)"
      ],
      "execution_count": null,
      "outputs": []
    },
    {
      "cell_type": "code",
      "metadata": {
        "colab": {
          "base_uri": "https://localhost:8080/",
          "height": 433
        },
        "id": "93fCPBr1JKOc",
        "outputId": "1829f203-bf22-4d17-86aa-361182cbdb6e"
      },
      "source": [
        "cv2_imshow(gray)"
      ],
      "execution_count": null,
      "outputs": [
        {
          "output_type": "display_data",
          "data": {
            "image/png": "[encoded data removed]",
            "text/plain": [
              "<PIL.Image.Image image mode=L size=416x416 at 0x7F934548F690>"
            ]
          },
          "metadata": {
            "tags": []
          }
        }
      ]
    },
    {
      "cell_type": "code",
      "metadata": {
        "id": "jRMf-JYiJ89l"
      },
      "source": [
        "ret, bw_img = cv2.threshold(gray,5,255,cv2.THRESH_BINARY)"
      ],
      "execution_count": null,
      "outputs": []
    },
    {
      "cell_type": "code",
      "metadata": {
        "colab": {
          "base_uri": "https://localhost:8080/",
          "height": 432
        },
        "id": "M8FNiu98KAA7",
        "outputId": "a810bdc2-d67b-4b9b-8230-9b4aefd3e8fc"
      },
      "source": [
        "cv2_imshow(bw_img)"
      ],
      "execution_count": null,
      "outputs": [
        {
          "output_type": "display_data",
          "data": {
            "image/png": "[encoded data removed]",
            "text/plain": [
              "<PIL.Image.Image image mode=L size=416x416 at 0x7FEFAA60B6D0>"
            ]
          },
          "metadata": {
            "tags": []
          }
        }
      ]
    },
    {
      "cell_type": "code",
      "metadata": {
        "id": "7ENT2pmNKeoC"
      },
      "source": [
        "import os\n",
        "from PIL import Image\n",
        "import numpy as np\n",
        "import matplotlib.pyplot as plt\n",
        "import cv2\n",
        "path = '/content/drive/MyDrive/Dataset_unet/test'\n",
        "# Store the image file names in a list as long as they are jpgs\n",
        "images = [f for f in os.listdir(path) if os.path.splitext(f)[-1] == '.png']"
      ],
      "execution_count": null,
      "outputs": []
    },
    {
      "cell_type": "code",
      "metadata": {
        "id": "qi8oYDpKKf_9"
      },
      "source": [
        "images=sorted(images)"
      ],
      "execution_count": null,
      "outputs": []
    },
    {
      "cell_type": "code",
      "metadata": {
        "colab": {
          "base_uri": "https://localhost:8080/",
          "height": 35
        },
        "id": "BZhxd750L99O",
        "outputId": "c21cb095-4c7d-4bd1-cf50-80fe87229f22"
      },
      "source": [
        "images[25]"
      ],
      "execution_count": null,
      "outputs": [
        {
          "output_type": "execute_result",
          "data": {
            "application/vnd.google.colaboratory.intrinsic+json": {
              "type": "string"
            },
            "text/plain": [
              "'T1_0012_S8_png_jpg.jpg'"
            ]
          },
          "metadata": {
            "tags": []
          },
          "execution_count": 93
        }
      ]
    },
    {
      "cell_type": "code",
      "metadata": {
        "colab": {
          "base_uri": "https://localhost:8080/"
        },
        "id": "7vMDTogFKkfG",
        "outputId": "17152fe9-7b79-4fda-9d52-5a83eee2e23b"
      },
      "source": [
        "cd /content/drive/MyDrive/test/images"
      ],
      "execution_count": null,
      "outputs": [
        {
          "output_type": "stream",
          "text": [
            "/content/drive/MyDrive/test/images\n"
          ],
          "name": "stdout"
        }
      ]
    },
    {
      "cell_type": "code",
      "metadata": {
        "id": "EKlIF5jqKmP-"
      },
      "source": [
        "import csv\n",
        "file = open('/content/drive/MyDrive/test/images/orig.csv')\n",
        "lns = csv.reader(file)"
      ],
      "execution_count": null,
      "outputs": []
    },
    {
      "cell_type": "code",
      "metadata": {
        "id": "KROY4D_NKoeb"
      },
      "source": [
        "file1 = open('//content/drive/MyDrive/test/images/Predicted_0.65_org.csv')\n",
        "lns1 = csv.reader(file1)"
      ],
      "execution_count": null,
      "outputs": []
    },
    {
      "cell_type": "code",
      "metadata": {
        "colab": {
          "base_uri": "https://localhost:8080/"
        },
        "id": "AKmi_h5WKsAM",
        "outputId": "7a91a6b0-2acd-4e70-c34e-70c2568b79e3"
      },
      "source": [
        "names12=[]\n",
        "names1=[]\n",
        "xmn_p=[]\n",
        "ymn_p=[]\n",
        "xmx_p=[]\n",
        "ymx_p=[]\n",
        "xmn_o=[]\n",
        "ymn_o=[]\n",
        "xmx_o=[]\n",
        "ymx_o=[]\n",
        "for line1 in lns1:\n",
        "       nam1=line1[0]\n",
        "       xmin= line1[4]\n",
        "       ymin= line1[5]\n",
        "       xmax= line1[6]\n",
        "       ymax= line1[7]\n",
        "      # print(nam1)\n",
        "       names12.append(nam1)\n",
        "       for j in range(len(images)):\n",
        "        image = cv2.imread(images[j])\n",
        "        if nam1 in images[j]:\n",
        "          print(nam1, xmin,ymin,xmax,ymax)\n",
        "          xmn_p.append(xmin)\n",
        "          ymn_p.append(ymin)\n",
        "          xmx_p.append(xmax)\n",
        "          ymx_p.append(ymax)\n",
        "          \n",
        "   \n"
      ],
      "execution_count": null,
      "outputs": [
        {
          "output_type": "stream",
          "text": [
            "T1_0298_S7_png_jpg.jpg 204 41 271 97\n",
            "T1_0298_S7_png_jpg.jpg 193 91 260 148\n",
            "T1_0298_S7_png_jpg.jpg 184 148 249 205\n",
            "T1_0298_S7_png_jpg.jpg 179 205 244 262\n",
            "T1_0298_S7_png_jpg.jpg 187 259 253 324\n",
            "T1_0298_S7_png_jpg.jpg 219 297 289 357\n",
            "T1_0518_S8_png_jpg.jpg 212 67 280 125\n",
            "T1_0518_S8_png_jpg.jpg 195 115 262 171\n",
            "T1_0518_S8_png_jpg.jpg 184 165 246 220\n",
            "T1_0518_S8_png_jpg.jpg 179 218 242 278\n",
            "T1_0518_S8_png_jpg.jpg 189 270 259 336\n",
            "T1_0518_S8_png_jpg.jpg 221 304 288 358\n",
            "T1_0242_S8_png_jpg.jpg 240 46 313 109\n",
            "T1_0242_S8_png_jpg.jpg 229 97 306 162\n",
            "T1_0242_S8_png_jpg.jpg 220 154 295 217\n",
            "T1_0242_S8_png_jpg.jpg 213 208 290 275\n",
            "T1_0242_S8_png_jpg.jpg 217 265 291 334\n",
            "T1_0242_S8_png_jpg.jpg 230 313 309 377\n",
            "T1_0267_S8_png_jpg.jpg 227 41 295 97\n",
            "T1_0267_S8_png_jpg.jpg 216 88 283 146\n",
            "T1_0267_S8_png_jpg.jpg 201 139 270 200\n",
            "T1_0267_S8_png_jpg.jpg 192 195 260 258\n",
            "T1_0267_S8_png_jpg.jpg 194 251 264 317\n",
            "T1_0267_S8_png_jpg.jpg 221 296 295 358\n",
            "T1_0029_S7_png_jpg.jpg 214 40 282 96\n",
            "T1_0029_S7_png_jpg.jpg 199 86 264 142\n",
            "T1_0029_S7_png_jpg.jpg 182 133 247 188\n",
            "T1_0029_S7_png_jpg.jpg 170 185 233 240\n",
            "T1_0029_S7_png_jpg.jpg 163 239 224 295\n",
            "T1_0029_S7_png_jpg.jpg 166 284 233 343\n",
            "T1_0120_S8_png_jpg.jpg 238 60 299 115\n",
            "T1_0120_S8_png_jpg.jpg 226 109 288 166\n",
            "T1_0120_S8_png_jpg.jpg 212 161 278 217\n",
            "T1_0120_S8_png_jpg.jpg 202 216 266 273\n",
            "T1_0120_S8_png_jpg.jpg 206 269 272 333\n",
            "T1_0120_S8_png_jpg.jpg 234 314 300 364\n",
            "T1_0332_S8_png_jpg.jpg 234 26 303 83\n",
            "T1_0332_S8_png_jpg.jpg 227 79 297 137\n",
            "T1_0332_S8_png_jpg.jpg 216 135 288 194\n",
            "T1_0332_S8_png_jpg.jpg 212 192 282 253\n",
            "T1_0332_S8_png_jpg.jpg 215 251 285 320\n",
            "T1_0332_S8_png_jpg.jpg 234 301 310 370\n",
            "T1_0145_S8_png_jpg.jpg 223 34 294 92\n",
            "T1_0145_S8_png_jpg.jpg 211 84 282 145\n",
            "T1_0145_S8_png_jpg.jpg 195 138 268 199\n",
            "T1_0145_S8_png_jpg.jpg 186 197 256 257\n",
            "T1_0145_S8_png_jpg.jpg 184 253 255 321\n",
            "T1_0145_S8_png_jpg.jpg 203 301 279 366\n",
            "T1_0223_S7_png_jpg.jpg 285 46 356 105\n",
            "T1_0223_S7_png_jpg.jpg 266 92 336 154\n",
            "T1_0223_S7_png_jpg.jpg 249 146 318 207\n",
            "T1_0223_S7_png_jpg.jpg 236 203 302 264\n",
            "T1_0223_S7_png_jpg.jpg 233 262 300 330\n",
            "T1_0223_S7_png_jpg.jpg 253 312 327 373\n",
            "T1_0023_S8_png_jpg.jpg 255 46 315 100\n",
            "T1_0023_S8_png_jpg.jpg 245 93 306 149\n",
            "T1_0023_S8_png_jpg.jpg 233 144 299 203\n",
            "T1_0023_S8_png_jpg.jpg 223 201 289 259\n",
            "T1_0023_S8_png_jpg.jpg 219 256 282 314\n",
            "T1_0023_S8_png_jpg.jpg 222 303 284 364\n",
            "T1_0143_S8_png_jpg.jpg 160 82 227 140\n",
            "T1_0143_S8_png_jpg.jpg 144 130 211 188\n",
            "T1_0143_S8_png_jpg.jpg 132 183 196 240\n",
            "T1_0143_S8_png_jpg.jpg 127 238 193 297\n",
            "T1_0143_S8_png_jpg.jpg 135 289 203 356\n",
            "T1_0143_S8_png_jpg.jpg 169 326 233 380\n",
            "T1_0495_S8_png_jpg.jpg 244 60 304 113\n",
            "T1_0495_S8_png_jpg.jpg 239 108 297 160\n",
            "T1_0495_S8_png_jpg.jpg 232 158 292 211\n",
            "T1_0495_S8_png_jpg.jpg 234 207 296 263\n",
            "T1_0495_S8_png_jpg.jpg 243 257 310 320\n",
            "T1_0495_S8_png_jpg.jpg 276 292 340 346\n",
            "T1_0350_S8_png_jpg.jpg 231 30 298 88\n",
            "T1_0350_S8_png_jpg.jpg 220 85 292 145\n",
            "T1_0350_S8_png_jpg.jpg 214 140 286 203\n",
            "T1_0350_S8_png_jpg.jpg 208 201 280 267\n",
            "T1_0350_S8_png_jpg.jpg 210 262 277 331\n",
            "T1_0350_S8_png_jpg.jpg 224 314 298 375\n",
            "T1_0118_S8_png_jpg.jpg 194 58 261 117\n",
            "T1_0118_S8_png_jpg.jpg 185 110 253 171\n",
            "T1_0118_S8_png_jpg.jpg 175 166 248 229\n",
            "T1_0118_S8_png_jpg.jpg 172 224 247 286\n",
            "T1_0118_S8_png_jpg.jpg 176 275 249 340\n",
            "T1_0118_S8_png_jpg.jpg 197 319 267 379\n",
            "T1_0301_S8_png_jpg.jpg 239 43 304 101\n",
            "T1_0301_S8_png_jpg.jpg 229 93 295 153\n",
            "T1_0301_S8_png_jpg.jpg 218 149 286 213\n",
            "T1_0301_S8_png_jpg.jpg 217 208 284 267\n",
            "T1_0301_S8_png_jpg.jpg 222 261 292 328\n",
            "T1_0301_S8_png_jpg.jpg 250 304 318 362\n",
            "T1_0306_S8_png_jpg.jpg 218 23 289 84\n",
            "T1_0306_S8_png_jpg.jpg 212 76 283 138\n",
            "T1_0306_S8_png_jpg.jpg 200 133 272 195\n",
            "T1_0306_S8_png_jpg.jpg 188 191 260 253\n",
            "T1_0306_S8_png_jpg.jpg 185 253 255 320\n",
            "T1_0306_S8_png_jpg.jpg 204 304 278 367\n",
            "T1_0083_S8_png_jpg.jpg 204 29 269 86\n",
            "T1_0083_S8_png_jpg.jpg 195 81 264 140\n",
            "T1_0083_S8_png_jpg.jpg 188 136 259 196\n",
            "T1_0083_S8_png_jpg.jpg 185 195 256 259\n",
            "T1_0083_S8_png_jpg.jpg 183 253 257 317\n",
            "T1_0083_S8_png_jpg.jpg 201 302 271 359\n",
            "T1_0166_S8_png_jpg.jpg 225 41 291 96\n",
            "T1_0166_S8_png_jpg.jpg 218 90 286 147\n",
            "T1_0166_S8_png_jpg.jpg 209 143 280 202\n",
            "T1_0166_S8_png_jpg.jpg 200 197 269 255\n",
            "T1_0166_S8_png_jpg.jpg 195 254 264 317\n",
            "T1_0166_S8_png_jpg.jpg 210 303 283 368\n",
            "T1_0431_S8_png_jpg.jpg 222 50 299 109\n",
            "T1_0431_S8_png_jpg.jpg 207 99 289 160\n",
            "T1_0431_S8_png_jpg.jpg 190 151 273 215\n",
            "T1_0431_S8_png_jpg.jpg 182 211 265 275\n",
            "T1_0431_S8_png_jpg.jpg 191 264 274 333\n",
            "T1_0431_S8_png_jpg.jpg 222 311 306 381\n",
            "T1_0098_S8_png_jpg.jpg 260 58 323 111\n",
            "T1_0098_S8_png_jpg.jpg 246 102 308 157\n",
            "T1_0098_S8_png_jpg.jpg 230 151 293 205\n",
            "T1_0098_S8_png_jpg.jpg 217 200 277 256\n",
            "T1_0098_S8_png_jpg.jpg 213 252 270 309\n",
            "T1_0098_S8_png_jpg.jpg 224 297 288 353\n",
            "T1_0281_S8_png_jpg.jpg 204 59 265 111\n",
            "T1_0281_S8_png_jpg.jpg 198 108 258 159\n",
            "T1_0281_S8_png_jpg.jpg 195 157 258 210\n",
            "T1_0281_S8_png_jpg.jpg 203 203 269 259\n",
            "T1_0281_S8_png_jpg.jpg 217 247 285 307\n",
            "T1_0281_S8_png_jpg.jpg 246 286 312 342\n",
            "T1_0314_S8_png_jpg.jpg 232 46 298 106\n",
            "T1_0314_S8_png_jpg.jpg 219 100 289 161\n",
            "T1_0314_S8_png_jpg.jpg 207 157 279 220\n",
            "T1_0314_S8_png_jpg.jpg 206 218 276 281\n",
            "T1_0314_S8_png_jpg.jpg 219 273 294 344\n",
            "T1_0314_S8_png_jpg.jpg 260 310 331 372\n",
            "T1_0475_S8_png_jpg.jpg 196 52 259 107\n",
            "T1_0475_S8_png_jpg.jpg 174 98 244 158\n",
            "T1_0475_S8_png_jpg.jpg 159 147 227 206\n",
            "T1_0475_S8_png_jpg.jpg 143 198 209 255\n",
            "T1_0475_S8_png_jpg.jpg 137 255 199 315\n",
            "T1_0475_S8_png_jpg.jpg 159 305 224 357\n",
            "T1_0532_S8_png_jpg.jpg 237 20 299 72\n",
            "T1_0532_S8_png_jpg.jpg 224 65 285 119\n",
            "T1_0532_S8_png_jpg.jpg 211 113 275 167\n",
            "T1_0532_S8_png_jpg.jpg 201 163 265 215\n",
            "T1_0532_S8_png_jpg.jpg 197 212 259 270\n",
            "T1_0532_S8_png_jpg.jpg 213 259 274 313\n",
            "T1_0047_S8_png_jpg.jpg 236 44 311 98\n",
            "T1_0047_S8_png_jpg.jpg 226 91 301 149\n",
            "T1_0047_S8_png_jpg.jpg 211 139 286 196\n",
            "T1_0047_S8_png_jpg.jpg 201 192 276 253\n",
            "T1_0047_S8_png_jpg.jpg 201 251 276 317\n",
            "T1_0047_S8_png_jpg.jpg 228 301 297 361\n",
            "T1_0012_S8_png_jpg.jpg 217 40 287 102\n",
            "T1_0012_S8_png_jpg.jpg 205 94 271 155\n",
            "T1_0012_S8_png_jpg.jpg 193 151 258 212\n",
            "T1_0012_S8_png_jpg.jpg 186 212 252 275\n",
            "T1_0012_S8_png_jpg.jpg 191 273 258 341\n",
            "T1_0012_S8_png_jpg.jpg 219 320 286 382\n",
            "T1_0335_S8_png_jpg.jpg 238 28 304 83\n",
            "T1_0335_S8_png_jpg.jpg 226 80 295 138\n",
            "T1_0335_S8_png_jpg.jpg 215 135 284 194\n",
            "T1_0335_S8_png_jpg.jpg 211 195 280 256\n",
            "T1_0335_S8_png_jpg.jpg 219 250 289 320\n",
            "T1_0335_S8_png_jpg.jpg 245 296 318 359\n",
            "T1_0519_S15_png_jpg.jpg 243 58 305 115\n",
            "T1_0519_S15_png_jpg.jpg 224 107 289 165\n",
            "T1_0519_S15_png_jpg.jpg 210 161 274 217\n",
            "T1_0519_S15_png_jpg.jpg 202 215 263 272\n",
            "T1_0519_S15_png_jpg.jpg 202 272 266 334\n",
            "T1_0519_S15_png_jpg.jpg 227 315 292 365\n",
            "T1_0092_S8_png_jpg.jpg 244 8 308 68\n",
            "T1_0092_S8_png_jpg.jpg 234 58 299 115\n",
            "T1_0092_S8_png_jpg.jpg 223 107 290 166\n",
            "T1_0092_S8_png_jpg.jpg 216 161 282 221\n",
            "T1_0092_S8_png_jpg.jpg 218 215 286 276\n",
            "T1_0092_S8_png_jpg.jpg 230 265 295 319\n",
            "T1_0537_S8_png_jpg.jpg 228 36 295 95\n",
            "T1_0537_S8_png_jpg.jpg 212 84 282 145\n",
            "T1_0537_S8_png_jpg.jpg 197 138 266 197\n",
            "T1_0537_S8_png_jpg.jpg 187 195 254 256\n",
            "T1_0537_S8_png_jpg.jpg 190 249 258 316\n",
            "T1_0537_S8_png_jpg.jpg 221 288 288 343\n",
            "T1_0515_S8_png_jpg.jpg 261 93 321 149\n",
            "T1_0515_S8_png_jpg.jpg 247 140 310 198\n",
            "T1_0515_S8_png_jpg.jpg 237 191 299 248\n",
            "T1_0515_S8_png_jpg.jpg 237 245 296 303\n",
            "T1_0515_S8_png_jpg.jpg 245 295 310 358\n",
            "T1_0515_S8_png_jpg.jpg 281 328 346 381\n",
            "T1_0069_S8_png_jpg.jpg 211 58 285 114\n",
            "T1_0069_S8_png_jpg.jpg 199 110 273 170\n",
            "T1_0069_S8_png_jpg.jpg 189 168 262 231\n",
            "T1_0069_S8_png_jpg.jpg 181 229 257 296\n",
            "T1_0069_S8_png_jpg.jpg 193 285 276 358\n",
            "T1_0069_S8_png_jpg.jpg 232 325 303 385\n",
            "T1_0468_S8_png_jpg.jpg 221 31 286 86\n",
            "T1_0468_S8_png_jpg.jpg 214 81 281 138\n",
            "T1_0468_S8_png_jpg.jpg 205 134 275 190\n",
            "T1_0468_S8_png_jpg.jpg 196 187 267 243\n",
            "T1_0468_S8_png_jpg.jpg 192 241 263 303\n",
            "T1_0468_S8_png_jpg.jpg 209 291 282 353\n",
            "T1_0100_S8_png_jpg.jpg 254 52 316 108\n",
            "T1_0100_S8_png_jpg.jpg 246 103 310 160\n",
            "T1_0100_S8_png_jpg.jpg 238 158 305 218\n",
            "T1_0100_S8_png_jpg.jpg 232 215 301 277\n",
            "T1_0100_S8_png_jpg.jpg 236 273 306 339\n",
            "T1_0100_S8_png_jpg.jpg 260 316 328 378\n",
            "T1_0271_S8_png_jpg.jpg 236 30 305 92\n",
            "T1_0271_S8_png_jpg.jpg 227 86 299 148\n",
            "T1_0271_S8_png_jpg.jpg 218 146 291 206\n",
            "T1_0271_S8_png_jpg.jpg 215 205 289 266\n",
            "T1_0271_S8_png_jpg.jpg 218 258 288 324\n",
            "T1_0271_S8_png_jpg.jpg 245 304 313 363\n",
            "T1_0541_S7_png_jpg.jpg 234 61 298 118\n",
            "T1_0541_S7_png_jpg.jpg 222 111 287 170\n",
            "T1_0541_S7_png_jpg.jpg 209 165 275 223\n",
            "T1_0541_S7_png_jpg.jpg 201 220 265 279\n",
            "T1_0541_S7_png_jpg.jpg 205 278 268 342\n",
            "T1_0541_S7_png_jpg.jpg 233 317 298 374\n",
            "T1_0215_S8_png_jpg.jpg 253 66 316 121\n",
            "T1_0215_S8_png_jpg.jpg 237 111 303 166\n",
            "T1_0215_S8_png_jpg.jpg 220 158 285 213\n",
            "T1_0215_S8_png_jpg.jpg 210 210 273 265\n",
            "T1_0215_S8_png_jpg.jpg 212 261 276 318\n",
            "T1_0215_S8_png_jpg.jpg 244 299 305 352\n",
            "T1_0008_S7_png_jpg.jpg 270 86 328 139\n",
            "T1_0008_S7_png_jpg.jpg 255 128 315 182\n",
            "T1_0008_S7_png_jpg.jpg 240 171 301 224\n",
            "T1_0008_S7_png_jpg.jpg 226 217 287 270\n",
            "T1_0008_S7_png_jpg.jpg 224 266 282 320\n",
            "T1_0008_S7_png_jpg.jpg 242 303 302 351\n",
            "T1_0379_S8_png_jpg.jpg 216 72 289 132\n",
            "T1_0379_S8_png_jpg.jpg 205 121 281 183\n",
            "T1_0379_S8_png_jpg.jpg 200 173 279 237\n",
            "T1_0379_S8_png_jpg.jpg 209 223 285 290\n",
            "T1_0379_S8_png_jpg.jpg 230 267 308 337\n",
            "T1_0379_S8_png_jpg.jpg 268 297 334 357\n",
            "T1_0174_S7_png_jpg.jpg 221 43 288 101\n",
            "T1_0174_S7_png_jpg.jpg 210 93 278 152\n",
            "T1_0174_S7_png_jpg.jpg 201 146 270 204\n",
            "T1_0174_S7_png_jpg.jpg 192 202 260 262\n",
            "T1_0174_S7_png_jpg.jpg 191 260 259 326\n",
            "T1_0174_S7_png_jpg.jpg 216 307 287 366\n",
            "T1_0128_S8_png_jpg.jpg 235 55 302 108\n",
            "T1_0128_S8_png_jpg.jpg 227 104 293 159\n",
            "T1_0128_S8_png_jpg.jpg 221 156 285 213\n",
            "T1_0128_S8_png_jpg.jpg 216 212 284 271\n",
            "T1_0128_S8_png_jpg.jpg 220 267 286 329\n",
            "T1_0128_S8_png_jpg.jpg 240 310 310 365\n",
            "T1_0568_S8_png_jpg.jpg 231 44 294 97\n",
            "T1_0568_S8_png_jpg.jpg 219 90 284 145\n",
            "T1_0568_S8_png_jpg.jpg 211 142 275 196\n",
            "T1_0568_S8_png_jpg.jpg 204 193 270 249\n",
            "T1_0568_S8_png_jpg.jpg 208 245 276 309\n",
            "T1_0568_S8_png_jpg.jpg 230 291 291 347\n",
            "T1_0452_S8_png_jpg.jpg 243 54 308 110\n",
            "T1_0452_S8_png_jpg.jpg 227 99 294 157\n",
            "T1_0452_S8_png_jpg.jpg 213 149 281 207\n",
            "T1_0452_S8_png_jpg.jpg 204 200 271 260\n",
            "T1_0452_S8_png_jpg.jpg 205 255 267 317\n",
            "T1_0452_S8_png_jpg.jpg 235 288 303 348\n",
            "T1_0569_S8_png_jpg.jpg 192 51 253 106\n",
            "T1_0569_S8_png_jpg.jpg 179 100 240 155\n",
            "T1_0569_S8_png_jpg.jpg 167 153 231 208\n",
            "T1_0569_S8_png_jpg.jpg 169 202 233 258\n",
            "T1_0569_S8_png_jpg.jpg 181 251 242 310\n",
            "T1_0569_S8_png_jpg.jpg 202 291 269 342\n",
            "T1_0057_S8_png_jpg.jpg 247 50 311 103\n",
            "T1_0057_S8_png_jpg.jpg 236 93 301 148\n",
            "T1_0057_S8_png_jpg.jpg 223 139 288 194\n",
            "T1_0057_S8_png_jpg.jpg 211 187 276 244\n",
            "T1_0057_S8_png_jpg.jpg 207 240 267 299\n",
            "T1_0057_S8_png_jpg.jpg 225 286 287 341\n",
            "T1_0370_S8_png_jpg.jpg 234 47 299 102\n",
            "T1_0370_S8_png_jpg.jpg 226 98 291 153\n",
            "T1_0370_S8_png_jpg.jpg 216 151 284 209\n",
            "T1_0370_S8_png_jpg.jpg 216 207 285 267\n",
            "T1_0370_S8_png_jpg.jpg 221 259 290 321\n",
            "T1_0370_S8_png_jpg.jpg 246 298 313 358\n",
            "T1_0363_S8_png_jpg.jpg 214 11 283 73\n",
            "T1_0363_S8_png_jpg.jpg 209 67 278 130\n",
            "T1_0363_S8_png_jpg.jpg 201 126 274 188\n",
            "T1_0363_S8_png_jpg.jpg 194 187 267 248\n",
            "T1_0363_S8_png_jpg.jpg 190 246 264 316\n",
            "T1_0363_S8_png_jpg.jpg 200 298 284 370\n",
            "T1_0296_S8_png_jpg.jpg 207 64 280 122\n",
            "T1_0296_S8_png_jpg.jpg 194 115 265 173\n",
            "T1_0296_S8_png_jpg.jpg 184 169 254 228\n",
            "T1_0296_S8_png_jpg.jpg 180 225 256 285\n",
            "T1_0296_S8_png_jpg.jpg 194 274 273 346\n",
            "T1_0296_S8_png_jpg.jpg 233 307 301 369\n",
            "T1_0211_S8_png_jpg.jpg 175 57 245 116\n",
            "T1_0211_S8_png_jpg.jpg 160 108 232 168\n",
            "T1_0211_S8_png_jpg.jpg 150 164 220 224\n",
            "T1_0211_S8_png_jpg.jpg 146 218 218 282\n",
            "T1_0211_S8_png_jpg.jpg 152 274 226 341\n",
            "T1_0211_S8_png_jpg.jpg 180 310 255 373\n",
            "T1_0173_S7_png_jpg.jpg 225 100 287 139\n",
            "T1_0173_S7_png_jpg.jpg 209 128 277 186\n",
            "T1_0173_S7_png_jpg.jpg 193 179 261 235\n",
            "T1_0173_S7_png_jpg.jpg 187 233 253 288\n",
            "T1_0173_S7_png_jpg.jpg 191 284 260 350\n",
            "T1_0173_S7_png_jpg.jpg 227 327 288 378\n",
            "T1_0196_S8_png_jpg.jpg 184 104 246 158\n",
            "T1_0196_S8_png_jpg.jpg 170 147 232 200\n",
            "T1_0196_S8_png_jpg.jpg 164 192 227 245\n",
            "T1_0196_S8_png_jpg.jpg 169 239 233 297\n",
            "T1_0196_S8_png_jpg.jpg 186 279 253 343\n",
            "T1_0196_S8_png_jpg.jpg 220 308 284 363\n"
          ],
          "name": "stdout"
        }
      ]
    },
    {
      "cell_type": "code",
      "metadata": {
        "colab": {
          "base_uri": "https://localhost:8080/"
        },
        "id": "Bak-_njCKsv9",
        "outputId": "9e36f3fd-db37-4455-921c-c7e44ce2e86b"
      },
      "source": [
        "names12=[]\n",
        "names1=[]\n",
        "xmn_o=[]\n",
        "ymn_o=[]\n",
        "xmx_o=[]\n",
        "ymx_o=[]\n",
        "for line in lns:\n",
        "       nam1=line[0]\n",
        "       xmin= line[4]\n",
        "       ymin= line[5]\n",
        "       xmax= line[6]\n",
        "       ymax= line[7]\n",
        "      # print(nam1)\n",
        "       names1.append(nam1)\n",
        "       for j in range(len(images)):\n",
        "        image = cv2.imread(images[j])\n",
        "        if nam1 in images[j]:\n",
        "          print(nam1, xmin,ymin,xmax,ymax)\n",
        "          xmn_o.append(xmin)\n",
        "          ymn_o.append(ymin)\n",
        "          xmx_o.append(xmax)\n",
        "          ymx_o.append(ymax)\n",
        "          \n",
        "   \n"
      ],
      "execution_count": null,
      "outputs": [
        {
          "output_type": "stream",
          "text": [
            "T1_0298_S7_png_jpg.jpg 204 44 272 100\n",
            "T1_0298_S7_png_jpg.jpg 193 96 258 148\n",
            "T1_0298_S7_png_jpg.jpg 184 151 245 202\n",
            "T1_0298_S7_png_jpg.jpg 182 206 239 259\n",
            "T1_0298_S7_png_jpg.jpg 185 257 255 321\n",
            "T1_0298_S7_png_jpg.jpg 220 300 286 350\n",
            "T1_0518_S8_png_jpg.jpg 212 64 280 127\n",
            "T1_0518_S8_png_jpg.jpg 196 114 261 173\n",
            "T1_0518_S8_png_jpg.jpg 180 166 246 220\n",
            "T1_0518_S8_png_jpg.jpg 179 224 241 280\n",
            "T1_0518_S8_png_jpg.jpg 188 268 260 337\n",
            "T1_0518_S8_png_jpg.jpg 226 306 290 357\n",
            "T1_0242_S8_png_jpg.jpg 242 52 311 106\n",
            "T1_0242_S8_png_jpg.jpg 225 103 302 159\n",
            "T1_0242_S8_png_jpg.jpg 216 160 294 212\n",
            "T1_0242_S8_png_jpg.jpg 215 211 284 268\n",
            "T1_0242_S8_png_jpg.jpg 214 269 286 325\n",
            "T1_0242_S8_png_jpg.jpg 232 318 301 371\n",
            "T1_0267_S8_png_jpg.jpg 229 44 294 94\n",
            "T1_0267_S8_png_jpg.jpg 213 91 282 146\n",
            "T1_0267_S8_png_jpg.jpg 199 144 267 195\n",
            "T1_0267_S8_png_jpg.jpg 189 201 258 254\n",
            "T1_0267_S8_png_jpg.jpg 195 259 260 312\n",
            "T1_0267_S8_png_jpg.jpg 223 299 293 356\n",
            "T1_0029_S7_png_jpg.jpg 212 41 281 95\n",
            "T1_0029_S7_png_jpg.jpg 199 86 263 141\n",
            "T1_0029_S7_png_jpg.jpg 182 133 247 188\n",
            "T1_0029_S7_png_jpg.jpg 167 181 232 237\n",
            "T1_0029_S7_png_jpg.jpg 163 239 223 289\n",
            "T1_0029_S7_png_jpg.jpg 172 285 230 337\n",
            "T1_0120_S8_png_jpg.jpg 241 59 297 116\n",
            "T1_0120_S8_png_jpg.jpg 227 111 288 166\n",
            "T1_0120_S8_png_jpg.jpg 215 163 274 215\n",
            "T1_0120_S8_png_jpg.jpg 204 220 265 275\n",
            "T1_0120_S8_png_jpg.jpg 205 272 267 333\n",
            "T1_0120_S8_png_jpg.jpg 237 311 293 361\n",
            "T1_0332_S8_png_jpg.jpg 237 28 301 82\n",
            "T1_0332_S8_png_jpg.jpg 224 83 296 138\n",
            "T1_0332_S8_png_jpg.jpg 213 138 287 191\n",
            "T1_0332_S8_png_jpg.jpg 212 195 280 251\n",
            "T1_0332_S8_png_jpg.jpg 219 255 280 316\n",
            "T1_0332_S8_png_jpg.jpg 235 301 308 366\n",
            "T1_0145_S8_png_jpg.jpg 221 34 293 89\n",
            "T1_0145_S8_png_jpg.jpg 209 85 281 145\n",
            "T1_0145_S8_png_jpg.jpg 196 141 268 197\n",
            "T1_0145_S8_png_jpg.jpg 185 195 259 255\n",
            "T1_0145_S8_png_jpg.jpg 186 253 256 319\n",
            "T1_0145_S8_png_jpg.jpg 204 298 274 363\n",
            "T1_0223_S7_png_jpg.jpg 290 43 358 105\n",
            "T1_0223_S7_png_jpg.jpg 268 95 332 152\n",
            "T1_0223_S7_png_jpg.jpg 246 151 318 208\n",
            "T1_0223_S7_png_jpg.jpg 234 207 304 266\n",
            "T1_0223_S7_png_jpg.jpg 230 263 297 327\n",
            "T1_0223_S7_png_jpg.jpg 253 312 325 375\n",
            "T1_0023_S8_png_jpg.jpg 257 50 312 99\n",
            "T1_0023_S8_png_jpg.jpg 245 95 305 148\n",
            "T1_0023_S8_png_jpg.jpg 229 147 294 202\n",
            "T1_0023_S8_png_jpg.jpg 223 204 288 259\n",
            "T1_0023_S8_png_jpg.jpg 217 257 278 312\n",
            "T1_0023_S8_png_jpg.jpg 223 305 284 358\n",
            "T1_0143_S8_png_jpg.jpg 160 79 226 138\n",
            "T1_0143_S8_png_jpg.jpg 145 130 211 185\n",
            "T1_0143_S8_png_jpg.jpg 134 183 195 242\n",
            "T1_0143_S8_png_jpg.jpg 128 241 190 294\n",
            "T1_0143_S8_png_jpg.jpg 137 287 206 354\n",
            "T1_0143_S8_png_jpg.jpg 172 328 232 380\n",
            "T1_0495_S8_png_jpg.jpg 245 61 301 113\n",
            "T1_0495_S8_png_jpg.jpg 238 110 294 159\n",
            "T1_0495_S8_png_jpg.jpg 233 157 289 211\n",
            "T1_0495_S8_png_jpg.jpg 233 210 290 262\n",
            "T1_0495_S8_png_jpg.jpg 245 260 303 317\n",
            "T1_0495_S8_png_jpg.jpg 274 295 338 345\n",
            "T1_0350_S8_png_jpg.jpg 232 30 294 87\n",
            "T1_0350_S8_png_jpg.jpg 220 88 289 143\n",
            "T1_0350_S8_png_jpg.jpg 213 144 282 204\n",
            "T1_0350_S8_png_jpg.jpg 208 207 277 262\n",
            "T1_0350_S8_png_jpg.jpg 211 265 276 328\n",
            "T1_0350_S8_png_jpg.jpg 224 313 296 367\n",
            "T1_0118_S8_png_jpg.jpg 193 56 263 119\n",
            "T1_0118_S8_png_jpg.jpg 182 112 250 171\n",
            "T1_0118_S8_png_jpg.jpg 173 169 246 229\n",
            "T1_0118_S8_png_jpg.jpg 172 224 245 286\n",
            "T1_0118_S8_png_jpg.jpg 178 273 246 337\n",
            "T1_0118_S8_png_jpg.jpg 195 323 265 371\n",
            "T1_0301_S8_png_jpg.jpg 241 46 302 98\n",
            "T1_0301_S8_png_jpg.jpg 228 99 292 155\n",
            "T1_0301_S8_png_jpg.jpg 220 155 283 209\n",
            "T1_0301_S8_png_jpg.jpg 221 210 277 262\n",
            "T1_0301_S8_png_jpg.jpg 222 264 290 325\n",
            "T1_0301_S8_png_jpg.jpg 250 303 318 358\n",
            "T1_0306_S8_png_jpg.jpg 220 25 286 82\n",
            "T1_0306_S8_png_jpg.jpg 212 81 282 138\n",
            "T1_0306_S8_png_jpg.jpg 198 137 273 197\n",
            "T1_0306_S8_png_jpg.jpg 189 197 263 254\n",
            "T1_0306_S8_png_jpg.jpg 186 255 254 318\n",
            "T1_0306_S8_png_jpg.jpg 207 306 279 358\n",
            "T1_0083_S8_png_jpg.jpg 202 30 267 87\n",
            "T1_0083_S8_png_jpg.jpg 194 85 261 142\n",
            "T1_0083_S8_png_jpg.jpg 188 142 256 201\n",
            "T1_0083_S8_png_jpg.jpg 186 202 256 255\n",
            "T1_0083_S8_png_jpg.jpg 186 254 259 312\n",
            "T1_0083_S8_png_jpg.jpg 201 299 269 354\n",
            "T1_0166_S8_png_jpg.jpg 225 43 289 99\n",
            "T1_0166_S8_png_jpg.jpg 221 94 286 144\n",
            "T1_0166_S8_png_jpg.jpg 210 145 275 198\n",
            "T1_0166_S8_png_jpg.jpg 202 201 267 254\n",
            "T1_0166_S8_png_jpg.jpg 199 259 264 312\n",
            "T1_0166_S8_png_jpg.jpg 212 308 281 360\n",
            "T1_0431_S8_png_jpg.jpg 222 52 298 106\n",
            "T1_0431_S8_png_jpg.jpg 208 104 286 159\n",
            "T1_0431_S8_png_jpg.jpg 193 154 271 214\n",
            "T1_0431_S8_png_jpg.jpg 185 216 263 272\n",
            "T1_0431_S8_png_jpg.jpg 194 265 275 329\n",
            "T1_0431_S8_png_jpg.jpg 229 308 305 376\n",
            "T1_0098_S8_png_jpg.jpg 260 57 317 111\n",
            "T1_0098_S8_png_jpg.jpg 245 102 307 155\n",
            "T1_0098_S8_png_jpg.jpg 230 147 286 198\n",
            "T1_0098_S8_png_jpg.jpg 215 192 275 255\n",
            "T1_0098_S8_png_jpg.jpg 200 237 272 305\n",
            "T1_0098_S8_png_jpg.jpg 226 301 289 344\n",
            "T1_0281_S8_png_jpg.jpg 204 60 261 108\n",
            "T1_0281_S8_png_jpg.jpg 198 111 255 160\n",
            "T1_0281_S8_png_jpg.jpg 194 159 255 211\n",
            "T1_0281_S8_png_jpg.jpg 200 206 269 256\n",
            "T1_0281_S8_png_jpg.jpg 223 247 280 306\n",
            "T1_0281_S8_png_jpg.jpg 246 283 310 338\n",
            "T1_0314_S8_png_jpg.jpg 235 49 295 104\n",
            "T1_0314_S8_png_jpg.jpg 219 105 288 161\n",
            "T1_0314_S8_png_jpg.jpg 207 161 273 220\n",
            "T1_0314_S8_png_jpg.jpg 206 220 276 280\n",
            "T1_0314_S8_png_jpg.jpg 220 273 294 342\n",
            "T1_0314_S8_png_jpg.jpg 259 315 327 365\n",
            "T1_0475_S8_png_jpg.jpg 196 50 255 107\n",
            "T1_0475_S8_png_jpg.jpg 174 100 239 157\n",
            "T1_0475_S8_png_jpg.jpg 156 148 223 203\n",
            "T1_0475_S8_png_jpg.jpg 143 202 203 257\n",
            "T1_0475_S8_png_jpg.jpg 139 258 198 314\n",
            "T1_0475_S8_png_jpg.jpg 160 305 220 355\n",
            "T1_0532_S8_png_jpg.jpg 238 21 294 72\n",
            "T1_0532_S8_png_jpg.jpg 224 65 285 117\n",
            "T1_0532_S8_png_jpg.jpg 212 114 272 164\n",
            "T1_0532_S8_png_jpg.jpg 204 163 264 215\n",
            "T1_0532_S8_png_jpg.jpg 199 211 256 266\n",
            "T1_0532_S8_png_jpg.jpg 216 258 275 306\n",
            "T1_0047_S8_png_jpg.jpg 232 40 307 99\n",
            "T1_0047_S8_png_jpg.jpg 224 90 299 147\n",
            "T1_0047_S8_png_jpg.jpg 209 142 285 197\n",
            "T1_0047_S8_png_jpg.jpg 200 194 273 251\n",
            "T1_0047_S8_png_jpg.jpg 202 254 276 315\n",
            "T1_0047_S8_png_jpg.jpg 228 296 296 359\n",
            "T1_0012_S8_png_jpg.jpg 217 43 289 97\n",
            "T1_0012_S8_png_jpg.jpg 202 95 270 151\n",
            "T1_0012_S8_png_jpg.jpg 193 154 255 211\n",
            "T1_0012_S8_png_jpg.jpg 188 213 249 273\n",
            "T1_0012_S8_png_jpg.jpg 189 272 263 337\n",
            "T1_0012_S8_png_jpg.jpg 221 321 287 375\n",
            "T1_0335_S8_png_jpg.jpg 237 29 303 81\n",
            "T1_0335_S8_png_jpg.jpg 224 81 293 136\n",
            "T1_0335_S8_png_jpg.jpg 215 138 281 193\n",
            "T1_0335_S8_png_jpg.jpg 211 196 279 255\n",
            "T1_0335_S8_png_jpg.jpg 221 252 287 320\n",
            "T1_0335_S8_png_jpg.jpg 242 299 319 356\n",
            "T1_0519_S15_png_jpg.jpg 245 63 302 115\n",
            "T1_0519_S15_png_jpg.jpg 223 110 284 164\n",
            "T1_0519_S15_png_jpg.jpg 211 164 268 217\n",
            "T1_0519_S15_png_jpg.jpg 204 219 260 271\n",
            "T1_0519_S15_png_jpg.jpg 202 270 262 334\n",
            "T1_0519_S15_png_jpg.jpg 226 320 290 366\n",
            "T1_0092_S8_png_jpg.jpg 243 10 307 65\n",
            "T1_0092_S8_png_jpg.jpg 238 56 296 113\n",
            "T1_0092_S8_png_jpg.jpg 224 109 286 164\n",
            "T1_0092_S8_png_jpg.jpg 217 160 284 220\n",
            "T1_0092_S8_png_jpg.jpg 220 217 286 277\n",
            "T1_0092_S8_png_jpg.jpg 231 265 293 313\n",
            "T1_0537_S8_png_jpg.jpg 230 38 294 95\n",
            "T1_0537_S8_png_jpg.jpg 212 85 278 143\n",
            "T1_0537_S8_png_jpg.jpg 195 138 263 198\n",
            "T1_0537_S8_png_jpg.jpg 188 197 250 250\n",
            "T1_0537_S8_png_jpg.jpg 190 250 254 314\n",
            "T1_0537_S8_png_jpg.jpg 224 290 288 334\n",
            "T1_0515_S8_png_jpg.jpg 263 93 318 149\n",
            "T1_0515_S8_png_jpg.jpg 248 142 306 195\n",
            "T1_0515_S8_png_jpg.jpg 237 190 297 246\n",
            "T1_0515_S8_png_jpg.jpg 234 244 291 299\n",
            "T1_0515_S8_png_jpg.jpg 240 295 306 358\n",
            "T1_0515_S8_png_jpg.jpg 276 333 343 376\n",
            "T1_0069_S8_png_jpg.jpg 209 53 281 112\n",
            "T1_0069_S8_png_jpg.jpg 200 110 269 171\n",
            "T1_0069_S8_png_jpg.jpg 187 169 261 228\n",
            "T1_0069_S8_png_jpg.jpg 187 231 257 293\n",
            "T1_0069_S8_png_jpg.jpg 200 286 274 355\n",
            "T1_0069_S8_png_jpg.jpg 234 325 303 382\n",
            "T1_0468_S8_png_jpg.jpg 219 33 285 85\n",
            "T1_0468_S8_png_jpg.jpg 209 83 277 139\n",
            "T1_0468_S8_png_jpg.jpg 202 139 275 187\n",
            "T1_0468_S8_png_jpg.jpg 197 192 267 241\n",
            "T1_0468_S8_png_jpg.jpg 194 245 258 298\n",
            "T1_0468_S8_png_jpg.jpg 210 290 279 351\n",
            "T1_0100_S8_png_jpg.jpg 253 52 314 108\n",
            "T1_0100_S8_png_jpg.jpg 246 105 309 160\n",
            "T1_0100_S8_png_jpg.jpg 240 161 306 217\n",
            "T1_0100_S8_png_jpg.jpg 236 216 301 273\n",
            "T1_0100_S8_png_jpg.jpg 239 272 302 338\n",
            "T1_0100_S8_png_jpg.jpg 257 315 325 376\n",
            "T1_0271_S8_png_jpg.jpg 237 34 303 91\n",
            "T1_0271_S8_png_jpg.jpg 226 91 295 145\n",
            "T1_0271_S8_png_jpg.jpg 219 148 288 207\n",
            "T1_0271_S8_png_jpg.jpg 213 206 285 263\n",
            "T1_0271_S8_png_jpg.jpg 217 267 285 322\n",
            "T1_0271_S8_png_jpg.jpg 245 304 315 360\n",
            "T1_0541_S7_png_jpg.jpg 235 64 295 115\n",
            "T1_0541_S7_png_jpg.jpg 221 112 285 169\n",
            "T1_0541_S7_png_jpg.jpg 206 167 272 223\n",
            "T1_0541_S7_png_jpg.jpg 199 221 263 276\n",
            "T1_0541_S7_png_jpg.jpg 204 278 265 337\n",
            "T1_0541_S7_png_jpg.jpg 238 319 298 366\n",
            "T1_0215_S8_png_jpg.jpg 255 68 315 116\n",
            "T1_0215_S8_png_jpg.jpg 236 114 300 168\n",
            "T1_0215_S8_png_jpg.jpg 223 162 280 208\n",
            "T1_0215_S8_png_jpg.jpg 214 211 267 263\n",
            "T1_0215_S8_png_jpg.jpg 214 259 271 312\n",
            "T1_0215_S8_png_jpg.jpg 240 302 303 352\n",
            "T1_0008_S7_png_jpg.jpg 267 86 322 136\n",
            "T1_0008_S7_png_jpg.jpg 254 129 306 176\n",
            "T1_0008_S7_png_jpg.jpg 234 172 299 220\n",
            "T1_0008_S7_png_jpg.jpg 225 217 286 269\n",
            "T1_0008_S7_png_jpg.jpg 221 264 284 315\n",
            "T1_0008_S7_png_jpg.jpg 241 304 301 346\n",
            "T1_0379_S8_png_jpg.jpg 214 73 290 129\n",
            "T1_0379_S8_png_jpg.jpg 208 126 280 181\n",
            "T1_0379_S8_png_jpg.jpg 204 178 277 233\n",
            "T1_0379_S8_png_jpg.jpg 213 226 282 282\n",
            "T1_0379_S8_png_jpg.jpg 232 268 301 333\n",
            "T1_0379_S8_png_jpg.jpg 268 298 328 349\n",
            "T1_0174_S7_png_jpg.jpg 218 48 286 99\n",
            "T1_0174_S7_png_jpg.jpg 210 95 275 148\n",
            "T1_0174_S7_png_jpg.jpg 205 146 267 203\n",
            "T1_0174_S7_png_jpg.jpg 194 203 260 260\n",
            "T1_0174_S7_png_jpg.jpg 194 262 262 323\n",
            "T1_0174_S7_png_jpg.jpg 223 312 284 362\n",
            "T1_0128_S8_png_jpg.jpg 237 56 299 108\n",
            "T1_0128_S8_png_jpg.jpg 226 105 289 160\n",
            "T1_0128_S8_png_jpg.jpg 223 158 284 215\n",
            "T1_0128_S8_png_jpg.jpg 219 215 284 268\n",
            "T1_0128_S8_png_jpg.jpg 221 267 285 328\n",
            "T1_0128_S8_png_jpg.jpg 242 307 305 361\n",
            "T1_0568_S8_png_jpg.jpg 232 46 292 101\n",
            "T1_0568_S8_png_jpg.jpg 220 94 280 149\n",
            "T1_0568_S8_png_jpg.jpg 209 143 272 197\n",
            "T1_0568_S8_png_jpg.jpg 206 194 267 245\n",
            "T1_0568_S8_png_jpg.jpg 208 245 271 306\n",
            "T1_0568_S8_png_jpg.jpg 227 289 290 340\n",
            "T1_0452_S8_png_jpg.jpg 246 56 306 108\n",
            "T1_0452_S8_png_jpg.jpg 228 100 292 156\n",
            "T1_0452_S8_png_jpg.jpg 211 149 280 203\n",
            "T1_0452_S8_png_jpg.jpg 204 205 268 258\n",
            "T1_0452_S8_png_jpg.jpg 204 255 265 312\n",
            "T1_0452_S8_png_jpg.jpg 241 291 301 350\n",
            "T1_0569_S8_png_jpg.jpg 191 51 251 105\n",
            "T1_0569_S8_png_jpg.jpg 178 103 242 152\n",
            "T1_0569_S8_png_jpg.jpg 169 147 233 204\n",
            "T1_0569_S8_png_jpg.jpg 165 201 233 258\n",
            "T1_0569_S8_png_jpg.jpg 177 247 242 311\n",
            "T1_0569_S8_png_jpg.jpg 200 294 269 340\n",
            "T1_0057_S8_png_jpg.jpg 248 51 311 102\n",
            "T1_0057_S8_png_jpg.jpg 235 96 303 143\n",
            "T1_0057_S8_png_jpg.jpg 220 138 288 189\n",
            "T1_0057_S8_png_jpg.jpg 209 188 273 241\n",
            "T1_0057_S8_png_jpg.jpg 208 243 268 295\n",
            "T1_0057_S8_png_jpg.jpg 225 286 282 334\n",
            "T1_0370_S8_png_jpg.jpg 233 46 297 103\n",
            "T1_0370_S8_png_jpg.jpg 224 102 288 154\n",
            "T1_0370_S8_png_jpg.jpg 217 152 278 208\n",
            "T1_0370_S8_png_jpg.jpg 216 207 279 267\n",
            "T1_0370_S8_png_jpg.jpg 217 264 286 321\n",
            "T1_0370_S8_png_jpg.jpg 246 302 307 357\n",
            "T1_0363_S8_png_jpg.jpg 216 13 280 74\n",
            "T1_0363_S8_png_jpg.jpg 207 73 279 129\n",
            "T1_0363_S8_png_jpg.jpg 200 130 269 190\n",
            "T1_0363_S8_png_jpg.jpg 194 189 264 246\n",
            "T1_0363_S8_png_jpg.jpg 190 250 258 311\n",
            "T1_0363_S8_png_jpg.jpg 201 303 280 367\n",
            "T1_0296_S8_png_jpg.jpg 206 63 280 123\n",
            "T1_0296_S8_png_jpg.jpg 190 117 262 173\n",
            "T1_0296_S8_png_jpg.jpg 182 173 252 228\n",
            "T1_0296_S8_png_jpg.jpg 180 229 257 285\n",
            "T1_0296_S8_png_jpg.jpg 197 279 271 342\n",
            "T1_0296_S8_png_jpg.jpg 232 313 301 372\n",
            "T1_0211_S8_png_jpg.jpg 173 58 247 115\n",
            "T1_0211_S8_png_jpg.jpg 161 112 230 165\n",
            "T1_0211_S8_png_jpg.jpg 148 165 220 221\n",
            "T1_0211_S8_png_jpg.jpg 147 220 219 281\n",
            "T1_0211_S8_png_jpg.jpg 155 276 224 339\n",
            "T1_0211_S8_png_jpg.jpg 186 316 254 366\n",
            "T1_0173_S7_png_jpg.jpg 224 103 286 138\n",
            "T1_0173_S7_png_jpg.jpg 206 130 275 182\n",
            "T1_0173_S7_png_jpg.jpg 193 177 264 229\n",
            "T1_0173_S7_png_jpg.jpg 190 234 251 285\n",
            "T1_0173_S7_png_jpg.jpg 198 293 263 345\n",
            "T1_0173_S7_png_jpg.jpg 221 333 289 376\n",
            "T1_0196_S8_png_jpg.jpg 181 107 243 153\n",
            "T1_0196_S8_png_jpg.jpg 170 150 233 197\n",
            "T1_0196_S8_png_jpg.jpg 161 194 229 242\n",
            "T1_0196_S8_png_jpg.jpg 168 242 229 293\n",
            "T1_0196_S8_png_jpg.jpg 185 282 246 336\n",
            "T1_0196_S8_png_jpg.jpg 224 319 284 358\n"
          ],
          "name": "stdout"
        }
      ]
    },
    {
      "cell_type": "code",
      "metadata": {
        "id": "Qm7oL_VlLXWO"
      },
      "source": [
        "# import the necessary packages\n",
        "from collections import namedtuple\n",
        "import numpy as np\n",
        "import cv2\n",
        "from math import sqrt\n",
        "from google.colab.patches import cv2_imshow\n",
        "# define the `Detection` object\n",
        "Detection = namedtuple(\"Detection\", [\"image_path\", \"gt\", \"pred\"])"
      ],
      "execution_count": null,
      "outputs": []
    },
    {
      "cell_type": "code",
      "metadata": {
        "colab": {
          "base_uri": "https://localhost:8080/",
          "height": 966
        },
        "id": "wJMRoGXSKxse",
        "outputId": "bd8156ba-95d3-472f-f35b-6c75e79628bb"
      },
      "source": [
        "import cv2\n",
        "\n",
        "x_coordinates=[]\n",
        "x_coordinates_o=[]\n",
        "y_coordinates=[]\n",
        "y_coordinates_o=[]\n",
        "Eu_dist=[]\n",
        "plus=150\n",
        "#################\n",
        "j=25\n",
        "image=cv2.imread(images[j])\n",
        "for i in range(6):\n",
        "  examples = [Detection(images[j], [int(xmn_o[i+plus]), int(ymn_o[i+plus]), int(xmx_o[i+plus]), int(ymx_o[i+plus])], [int(xmn_p[i+plus]),int(ymn_p[i+plus]),int(xmx_p[i+plus]),int(ymx_p[i+plus])] ) ]\n",
        "  xCenter = np.divide((int(xmn_p[i+plus])) + (int(xmx_p[i+plus])), 2)\n",
        "  yCenter = np.divide((int(ymn_p[i+plus])) + (int(ymx_p[i+plus])) , 2)\n",
        "  xCenter_o = np.divide((int(xmn_o[i+plus])) + (int(xmx_o[i+plus])), 2)\n",
        "  yCenter_o = np.divide((int(ymn_o[i+plus])) + (int(ymx_o[i+plus])) , 2)\n",
        "  x_coordinates.append(xCenter)\n",
        "  y_coordinates.append(yCenter)\n",
        "  x_coordinates_o.append(xCenter_o)\n",
        "  y_coordinates_o.append(yCenter_o)\n",
        "  print(\"Centre of Original Label \\n\",xCenter_o,yCenter_o)\n",
        "  print(\"Centre of Predicted Label \\n\",xCenter,yCenter)\n",
        "  dist=sqrt((xCenter-xCenter_o)**2 + (yCenter-yCenter_o)**2)\n",
        "  print(\"Distance \\n\", dist)\n",
        "  Eu_dist.append(dist)\n",
        "  for detection in examples:\n",
        "        # cv2.rectangle(resized, tuple((detection.gt[:2])),tuple((detection.gt[2:])), (0, 255, 255), 2)\n",
        "         cv2.rectangle(gray, tuple(detection.pred[:2]),tuple(detection.pred[2:]), (255, 255, 255), 2)\n",
        "cv2_imshow(gray)\n",
        "cv2.waitKey(0) # show the output image"
      ],
      "execution_count": null,
      "outputs": [
        {
          "output_type": "stream",
          "text": [
            "Centre of Original Label \n",
            " 253.0 70.0\n",
            "Centre of Predicted Label \n",
            " 252.0 71.0\n",
            "Distance \n",
            " 1.4142135623730951\n",
            "Centre of Original Label \n",
            " 236.0 123.0\n",
            "Centre of Predicted Label \n",
            " 238.0 124.5\n",
            "Distance \n",
            " 2.5\n",
            "Centre of Original Label \n",
            " 224.0 182.5\n",
            "Centre of Predicted Label \n",
            " 225.5 181.5\n",
            "Distance \n",
            " 1.8027756377319946\n",
            "Centre of Original Label \n",
            " 218.5 243.0\n",
            "Centre of Predicted Label \n",
            " 219.0 243.5\n",
            "Distance \n",
            " 0.7071067811865476\n",
            "Centre of Original Label \n",
            " 226.0 304.5\n",
            "Centre of Predicted Label \n",
            " 224.5 307.0\n",
            "Distance \n",
            " 2.9154759474226504\n",
            "Centre of Original Label \n",
            " 254.0 348.0\n",
            "Centre of Predicted Label \n",
            " 252.5 351.0\n",
            "Distance \n",
            " 3.3541019662496847\n"
          ],
          "name": "stdout"
        },
        {
          "output_type": "display_data",
          "data": {
            "image/png": "[encoded data removed]",
            "text/plain": [
              "<PIL.Image.Image image mode=L size=320x320 at 0x7F619043AC10>"
            ]
          },
          "metadata": {
            "tags": []
          }
        },
        {
          "output_type": "execute_result",
          "data": {
            "text/plain": [
              "-1"
            ]
          },
          "metadata": {
            "tags": []
          },
          "execution_count": 100
        }
      ]
    },
    {
      "cell_type": "code",
      "metadata": {
        "colab": {
          "base_uri": "https://localhost:8080/",
          "height": 298
        },
        "id": "TS8aWzVSKIU7",
        "outputId": "33e39ba0-8c13-43e1-d950-59e0b2bf5fe6"
      },
      "source": [
        "import cv2\n",
        "import numpy as np\n",
        "from matplotlib import pyplot as plt\n",
        "\n",
        "\n",
        "blur = cv2.blur(img3,(5,5))\n",
        "\n",
        "plt.imshow(img3),plt.title('Original')\n",
        "\n",
        "plt.imshow(blur),plt.title('Blurred')\n"
      ],
      "execution_count": null,
      "outputs": [
        {
          "output_type": "execute_result",
          "data": {
            "text/plain": [
              "(<matplotlib.image.AxesImage at 0x7f916e21c890>, Text(0.5, 1.0, 'Blurred'))"
            ]
          },
          "metadata": {
            "tags": []
          },
          "execution_count": 241
        },
        {
          "output_type": "display_data",
          "data": {
            "image/png": "[encoded data removed]",
            "text/plain": [
              "<Figure size 432x288 with 1 Axes>"
            ]
          },
          "metadata": {
            "tags": []
          }
        }
      ]
    },
    {
      "cell_type": "code",
      "metadata": {
        "colab": {
          "base_uri": "https://localhost:8080/",
          "height": 337
        },
        "id": "Oj640X8LIo2K",
        "outputId": "5c269be1-0788-4262-84a5-5b64e46f4188"
      },
      "source": [
        "from scipy.ndimage import gaussian_filter\n",
        "result = gaussian_filter(img3_6, sigma=1)\n",
        "cv2_imshow(result)"
      ],
      "execution_count": null,
      "outputs": [
        {
          "output_type": "display_data",
          "data": {
            "image/png": "[encoded data removed]",
            "text/plain": [
              "<PIL.Image.Image image mode=L size=320x320 at 0x7F6352277A50>"
            ]
          },
          "metadata": {
            "tags": []
          }
        }
      ]
    },
    {
      "cell_type": "code",
      "metadata": {
        "colab": {
          "base_uri": "https://localhost:8080/",
          "height": 337
        },
        "id": "ad7EYyrA1Fnb",
        "outputId": "36c1c83a-712c-4b6f-fe51-af7585441615"
      },
      "source": [
        "from scipy.ndimage import gaussian_filter\n",
        "result1 = gaussian_filter(img34, sigma=1)\n",
        "cv2_imshow(result1)"
      ],
      "execution_count": null,
      "outputs": [
        {
          "output_type": "display_data",
          "data": {
            "image/png": "[encoded data removed]",
            "text/plain": [
              "<PIL.Image.Image image mode=L size=320x320 at 0x7F629437D550>"
            ]
          },
          "metadata": {
            "tags": []
          }
        }
      ]
    },
    {
      "cell_type": "code",
      "metadata": {
        "colab": {
          "base_uri": "https://localhost:8080/",
          "height": 337
        },
        "id": "4QAovZUe2ZQt",
        "outputId": "87af2fe1-41b3-4144-d120-3e30694bfa00"
      },
      "source": [
        "s=result+result1\n",
        "cv2_imshow(s)"
      ],
      "execution_count": null,
      "outputs": [
        {
          "output_type": "display_data",
          "data": {
            "image/png": "[encoded data removed]",
            "text/plain": [
              "<PIL.Image.Image image mode=L size=320x320 at 0x7F6190462B10>"
            ]
          },
          "metadata": {
            "tags": []
          }
        }
      ]
    },
    {
      "cell_type": "code",
      "metadata": {
        "colab": {
          "base_uri": "https://localhost:8080/"
        },
        "id": "vGHdaD401Gvx",
        "outputId": "3fe30426-944a-49ce-eb30-e0a80ea7814f"
      },
      "source": [
        "!git clone https://github.com/chaeyoung-lee/pytorch-CAM.git"
      ],
      "execution_count": null,
      "outputs": [
        {
          "output_type": "stream",
          "text": [
            "Cloning into 'pytorch-CAM'...\n",
            "remote: Enumerating objects: 84, done.\u001b[K\n",
            "remote: Total 84 (delta 0), reused 0 (delta 0), pack-reused 84\u001b[K\n",
            "Unpacking objects: 100% (84/84), done.\n"
          ],
          "name": "stdout"
        }
      ]
    },
    {
      "cell_type": "code",
      "metadata": {
        "colab": {
          "base_uri": "https://localhost:8080/"
        },
        "id": "KbldiLrk3f8K",
        "outputId": "934b2cc6-4071-4317-956e-9123c0844539"
      },
      "source": [
        "cd /content/pytorch-CAM"
      ],
      "execution_count": null,
      "outputs": [
        {
          "output_type": "stream",
          "text": [
            "/content/pytorch-CAM\n"
          ],
          "name": "stdout"
        }
      ]
    },
    {
      "cell_type": "code",
      "metadata": {
        "colab": {
          "base_uri": "https://localhost:8080/"
        },
        "id": "zApyyRk-3kyw",
        "outputId": "2fcb31f1-d9e4-4c96-a313-5de49b9b1dd6"
      },
      "source": [
        "!python /content/pytorch-CAM/main.py"
      ],
      "execution_count": null,
      "outputs": [
        {
          "output_type": "stream",
          "text": [
            "Traceback (most recent call last):\n",
            "  File \"/content/pytorch-CAM/main.py\", line 49, in <module>\n",
            "    train_data = datasets.ImageFolder('kaggle/train/', transform=transform_train)\n",
            "  File \"/usr/local/lib/python3.7/dist-packages/torchvision/datasets/folder.py\", line 313, in __init__\n",
            "    is_valid_file=is_valid_file)\n",
            "  File \"/usr/local/lib/python3.7/dist-packages/torchvision/datasets/folder.py\", line 145, in __init__\n",
            "    classes, class_to_idx = self.find_classes(self.root)\n",
            "  File \"/usr/local/lib/python3.7/dist-packages/torchvision/datasets/folder.py\", line 221, in find_classes\n",
            "    return find_classes(directory)\n",
            "  File \"/usr/local/lib/python3.7/dist-packages/torchvision/datasets/folder.py\", line 40, in find_classes\n",
            "    classes = sorted(entry.name for entry in os.scandir(directory) if entry.is_dir())\n",
            "FileNotFoundError: [Errno 2] No such file or directory: 'kaggle/train/'\n"
          ],
          "name": "stdout"
        }
      ]
    }
  ]
}